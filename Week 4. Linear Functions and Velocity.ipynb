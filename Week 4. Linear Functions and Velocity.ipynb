{
 "cells": [
  {
   "cell_type": "markdown",
   "metadata": {},
   "source": [
    "# Linear Functions and Velocity\n",
    "\n",
    "**Objectives:**\n",
    "- Practice solving Linear Equations\n",
    "- Explore linear functions via concepts of space and time\n",
    "- To see velocity as the slope of the graph of distance traveled versus time elapsed\n",
    "- To read and use scientific notation for large and small numbers\n",
    "- To convert between several common units of space and time \n",
    "- To use jupyter notebooks as interactive graphical calculators to illustrate and save your work."
   ]
  },
  {
   "cell_type": "code",
   "execution_count": null,
   "metadata": {
    "code_folding": []
   },
   "outputs": [],
   "source": [
    "# pose   random  y = mx + b    questions, solving for y\n",
    "# Press the Run button and work until you can get 10 right in less than a minute\n",
    "\n",
    "import numpy as np\n",
    "import time\n",
    "\n",
    "start_time = time.time()\n",
    "replies = 0\n",
    "score = 0\n",
    "while (replies < 9):\n",
    "    m = np.random.randint(10)*(-1)**np.random.randint(2)\n",
    "    b = np.random.randint(10)*(-1)**np.random.randint(2)\n",
    "    print('Consider: y = ' + str(m) + 'x + ' + str(b))\n",
    "    x = np.random.randint(10)\n",
    "    try:\n",
    "       ans = input('    if x=' + str(x) + ' then what is y? ')\n",
    "       ians = int(ans)\n",
    "       if ( abs(ians-(m*x+b)) < 0.5 ):\n",
    "           print('       well done')\n",
    "           score = score + 1\n",
    "       else:\n",
    "           print('       not this time')\n",
    "       print(' ')\n",
    "       replies = replies + 1\n",
    "    except:\n",
    "        print('oops: I need a whole number')\n",
    "        print(' ')\n",
    "    \n",
    "    print('Consider: y = ' + str(m) + 'x - ' + str(b))\n",
    "    x = np.random.randint(10)\n",
    "    try:\n",
    "       ans = input('    if x=' + str(x) + ' then what is y? ')\n",
    "       ians = int(ans)\n",
    "       if ( abs(ians-(m*x-b)) < 0.5 ):\n",
    "           print('       well done')\n",
    "           score = score + 1\n",
    "       else:\n",
    "           print('       not this time')\n",
    "       print(' ')\n",
    "       replies = replies + 1\n",
    "    except:\n",
    "        print('oops: I need a whole number')\n",
    "        print(' ')\n",
    "\n",
    "print('Your Score is ' + str(score) + ' out of 10')\n",
    "print('You finished in ' + str(round(time.time()-start_time)) + ' seconds')"
   ]
  },
  {
   "cell_type": "code",
   "execution_count": null,
   "metadata": {},
   "outputs": [],
   "source": [
    "# pose   random   y = mx + b    questions, solving for x\n",
    "# answer must be given as a fraction (without sign cancellation)\n",
    "# for example, the solution to 3 = -4x + 5  is    -2/-4\n",
    "# Press the Run button and work until you can get 10 right in less than a minute\n",
    "\n",
    "import numpy as np\n",
    "import time\n",
    "\n",
    "start_time = time.time()\n",
    "replies = 0\n",
    "score = 0\n",
    "while (replies < 9):\n",
    "    m = np.random.randint(1,10)*(-1)**np.random.randint(2)\n",
    "    b = np.random.randint(10)*(-1)**np.random.randint(2)\n",
    "    print('Consider: y = ' + str(m) + 'x + ' + str(b))\n",
    "    y = np.random.randint(10)\n",
    "    try:\n",
    "       ans = input('    if y=' + str(y) + ' then what is x? ')\n",
    "       div = ans.find('/')\n",
    "       num = int(ans[:div])\n",
    "       den = int(ans[div+1:])\n",
    "       print(' ')\n",
    "       if ( abs(num - (y-b)) < 0.5 and abs(den - m) < 0.5):\n",
    "           print('    well done')\n",
    "           score = score + 1\n",
    "       else:\n",
    "           print('    not this time')\n",
    "       print(' ')\n",
    "       replies = replies + 1\n",
    "    except:\n",
    "        print('oops: I need a fraction')\n",
    "        print(' ')\n",
    "        \n",
    "    print('Consider: y = ' + str(m) + 'x - ' + str(b))\n",
    "    y = np.random.randint(10)\n",
    "    try:\n",
    "       ans = input('    if y=' + str(y) + ' then what is x? ')\n",
    "       div = ans.find('/')\n",
    "       num = int(ans[:div])\n",
    "       den = int(ans[div+1:])\n",
    "       print(' ')\n",
    "       if ( abs(num - (y+b)) < 0.5 and abs(den - m) < 0.5):\n",
    "           print('    well done')\n",
    "           score = score + 1\n",
    "       else:\n",
    "           print('    not this time')\n",
    "       print(' ')\n",
    "       replies = replies + 1\n",
    "    except:\n",
    "        print('oops: I need a fraction')\n",
    "        print(' ')\n",
    "        \n",
    "print('Your Score is ' + str(score) + ' out of 10')\n",
    "print('You finished in ' + str(round(time.time()-start_time)) + ' seconds')"
   ]
  },
  {
   "cell_type": "markdown",
   "metadata": {},
   "source": [
    "Imagine a straight road where d measures distance, in miles, from the left end.\n",
    "\n",
    "Suppose I start driving from d=3, at constant velocity, and arrive at d=8 thirty minutes later. How fast, in mph, was I driving?\n",
    "\n",
    "Note that \n",
    "\n",
    "    Velocity = (distance traveled) / (time elapsed) = (end distance - start distance) / (end time - start time)\n",
    "\n",
    "We visualize this with the help of this python script"
   ]
  },
  {
   "cell_type": "code",
   "execution_count": 2,
   "metadata": {},
   "outputs": [
    {
     "data": {
      "image/png": "[encoded data removed]",
      "text/plain": [
       "<Figure size 432x288 with 1 Axes>"
      ]
     },
     "metadata": {
      "needs_background": "light"
     },
     "output_type": "display_data"
    }
   ],
   "source": [
    "# graph and label a plot of distance versus time\n",
    "\n",
    "import numpy as np                  # numerical helper functions\n",
    "import matplotlib.pyplot as plt     # graphical helper functions\n",
    "\n",
    "t = np.linspace(0,1,20)  # 20 time points between 0 and 1\n",
    "v = (8-3)/0.5          # velocity equals slope\n",
    "d = 3 + v*t                # distance\n",
    "\n",
    "plt.plot(t, d, 'o-')\n",
    "\n",
    "plt.grid('on')\n",
    "plt.xlabel('t (hours)', fontsize=14)\n",
    "plt.ylabel('d  (miles)', fontsize=14)\n",
    "plt.title('Distance vs. Time,' + ' v = ' + str(v) + ' mph', fontsize=16);"
   ]
  },
  {
   "cell_type": "markdown",
   "metadata": {},
   "source": [
    "Measurements of distance are not always reported in miles, and time is not always reported in hours. For example, my hair grows 1 inch in 30 days. How many miles per hour is that? Do you see that this is a unit conversion problem?\n",
    "\n",
    "\\begin{equation}\\label{eq:hair}\n",
    "  \\frac{1\\ inch}{30\\ days} x \\frac{1\\ foot}{12\\ inches} x \\frac{1\\ mile}{5280\\ feet} x \\frac{1\\ day}{24\\ hours}\n",
    "  = \\frac{1\\ mile}{45619200\\ hours} = 0.000000021921\\ mph\n",
    "\\end{equation}\n",
    "\n",
    "This, of course, is a very small number. As most of us are very poor at keeping track of all those zeros, we turn to scientific notation. For example, if we ask python to do this calculation it returns\n"
   ]
  },
  {
   "cell_type": "code",
   "execution_count": 2,
   "metadata": {},
   "outputs": [
    {
     "data": {
      "text/plain": [
       "2.19205948372615e-08"
      ]
     },
     "execution_count": 2,
     "metadata": {},
     "output_type": "execute_result"
    }
   ],
   "source": [
    "(1/30)*(1/12)*(1/5280)*(1/24)  # speed of hair growth in mph"
   ]
  },
  {
   "cell_type": "markdown",
   "metadata": {},
   "source": [
    "and we read this as 2.19 times 10 to the -8. As 10 to the -6 is a millionth we find that my hair grows 219 millionths of a mile per hour.\n",
    "\n",
    "To take another example, the earth is about 93 million miles from the sun, and our orbit is fairly circular and so the earth travels $93e6*2*\\pi$ miles per year. What is this in mph? Well"
   ]
  },
  {
   "cell_type": "code",
   "execution_count": 3,
   "metadata": {},
   "outputs": [
    {
     "data": {
      "text/plain": [
       "66705.04949402985"
      ]
     },
     "execution_count": 3,
     "metadata": {},
     "output_type": "execute_result"
    }
   ],
   "source": [
    "93e6*2*np.pi*(1/365)*(1/24) # speed of earth around sun in mph"
   ]
  },
  {
   "cell_type": "markdown",
   "metadata": {},
   "source": [
    "that is more than **66 thousand miles per hour!**\n",
    "\n",
    "But that is not all, we are spinning as we go. How fast? Well the radius of the earth is 3959 miles and so we travel\n",
    "$3959*2*\\pi$ miles per day and so we spin"
   ]
  },
  {
   "cell_type": "code",
   "execution_count": 4,
   "metadata": {},
   "outputs": [
    {
     "data": {
      "text/plain": [
       "1036.4637762968325"
      ]
     },
     "execution_count": 4,
     "metadata": {},
     "output_type": "execute_result"
    }
   ],
   "source": [
    "3959*2*np.pi/24   # speed of earth spinning on its own axis in mph"
   ]
  },
  {
   "cell_type": "markdown",
   "metadata": {},
   "source": [
    "at over **one thousand miles per hour!**\n",
    "\n",
    "But that is not all, for our solar system is moving rapidly along one arm of our spiral galaxy and our galaxy itself is hurtling through space away from the big bang!"
   ]
  },
  {
   "cell_type": "markdown",
   "metadata": {},
   "source": [
    "## Homework: Computing and Illustrating Velocities\n",
    "\n",
    "1. Complete the top two practice cells, solving y=mx+b for y and x.\n",
    "\n",
    "2. Change the python cell that follows the two practice cells to reflect the case that you leave from d=2 miles and arrive at d=62 miles after one hour. Make sure the correct new velocity appears in the title of your graph.\n",
    "\n",
    "Complete python cells that **show your work** in answering the following questions. "
   ]
  },
  {
   "cell_type": "markdown",
   "metadata": {},
   "source": [
    "3. The moon is 238,855 miles from earth and completes one orbit in one day. How many mph? (type and evaluate the correct formula)"
   ]
  },
  {
   "cell_type": "code",
   "execution_count": null,
   "metadata": {},
   "outputs": [],
   "source": []
  },
  {
   "cell_type": "markdown",
   "metadata": {},
   "source": [
    "4. An ant takes 3 minutes to walk around a beach ball of radius 2 feet. How many mph?"
   ]
  },
  {
   "cell_type": "code",
   "execution_count": null,
   "metadata": {},
   "outputs": [],
   "source": []
  },
  {
   "cell_type": "markdown",
   "metadata": {},
   "source": [
    "5. I can walk 3 feet per second, how many minutes will it take me to walk a mile? (This is asking for minutes per mile)"
   ]
  },
  {
   "cell_type": "code",
   "execution_count": null,
   "metadata": {},
   "outputs": [],
   "source": []
  },
  {
   "cell_type": "markdown",
   "metadata": {},
   "source": [
    "6. If a 20 gallon tank of gasoline gets me 400 miles how many miles can I travel per gallon?"
   ]
  },
  {
   "cell_type": "code",
   "execution_count": null,
   "metadata": {},
   "outputs": [],
   "source": []
  }
 ],
 "metadata": {
  "kernelspec": {
   "display_name": "Python 3",
   "language": "python",
   "name": "python3"
  },
  "language_info": {
   "codemirror_mode": {
    "name": "ipython",
    "version": 3
   },
   "file_extension": ".py",
   "mimetype": "text/x-python",
   "name": "python",
   "nbconvert_exporter": "python",
   "pygments_lexer": "ipython3",
   "version": "3.8.3"
  },
  "latex_envs": {
   "LaTeX_envs_menu_present": true,
   "autoclose": false,
   "autocomplete": false,
   "bibliofile": "",
   "cite_by": "apalike",
   "current_citInitial": 1,
   "eqLabelWithNumbers": true,
   "eqNumInitial": 1,
   "hotkeys": {
    "equation": "Ctrl-E",
    "itemize": "Ctrl-I"
   },
   "labels_anchors": false,
   "latex_user_defs": false,
   "report_style_numbering": true,
   "user_envs_cfg": true
  },
  "toc": {
   "base_numbering": 1,
   "nav_menu": {},
   "number_sections": true,
   "sideBar": true,
   "skip_h1_title": false,
   "title_cell": "Table of Contents",
   "title_sidebar": "Contents",
   "toc_cell": false,
   "toc_position": {},
   "toc_section_display": true,
   "toc_window_display": false
  }
 },
 "nbformat": 4,
 "nbformat_minor": 4
}
