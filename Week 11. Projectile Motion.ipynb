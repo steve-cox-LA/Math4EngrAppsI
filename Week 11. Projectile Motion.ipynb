{
 "cells": [
  {
   "cell_type": "markdown",
   "metadata": {},
   "source": [
    "# Projectile Motion\n",
    "\n",
    "Armed with this knowledge of trigonometry we may now pose and solve problems of **two-dimensional motion.**\n",
    "\n",
    "For this week we will study the motion of a projectile, such as a kicked soccer ball, or an aid-package dropped from\n",
    "an airplane.\n",
    "\n",
    "In either case we will denote the **position** at time $t$ by\n",
    "\n",
    "$$(x(t), y(t))$$ \n",
    "\n",
    "and the **velocity** at time $t$ by\n",
    "\n",
    "$$(v_x(t),v_y(t))$$\n",
    "\n",
    "Just as in one-dimension, these future values depend on the initial values\n",
    "\n",
    "$$\n",
    "  x(0) = x_0 \\\\\n",
    "  y(0) = y_0  \\\\\n",
    "  v_x(0) = v_{x0} \\\\\n",
    "  v_y(0) = v_{y0} \n",
    "$$\n",
    "\n",
    "and on gravity, $g$. In particular, the **equations of motion** are\n",
    "\n",
    "$$\n",
    "  \\boxed{ x(t) = x_0 + v_{x0}t \\\\\n",
    "  y(t) = y_0 + v_{y0}t - (g/2)t^2 }\n",
    "$$\n",
    "\n",
    "Let's code up a simple soccer kick, at the origin, and pointed 45 degrees east, with sufficient leg power to leave the foot at $10\\sqrt 2$ meters per second.\n",
    "\n",
    "Just as before, in order to know the correct time interval for simulation I must know how long it will take to hit the ground. As before this requires that we solve $y(t_{hit})=0$ for\n",
    "\n",
    "$$\n",
    " t_{hit} = \\frac{v_{y0} + \\sqrt{v_{y0}^2+2gy_0}}{g}  \\tag{thit}\n",
    "$$"
   ]
  },
  {
   "cell_type": "code",
   "execution_count": 6,
   "metadata": {},
   "outputs": [
    {
     "name": "stdout",
     "output_type": "stream",
     "text": [
      "thit =  4.077471967380224\n"
     ]
    },
    {
     "data": {
      "image/png": "[encoded data removed]",
      "text/plain": [
       "<Figure size 432x288 with 1 Axes>"
      ]
     },
     "metadata": {
      "needs_background": "light"
     },
     "output_type": "display_data"
    }
   ],
   "source": [
    "%matplotlib inline\n",
    "import numpy as np\n",
    "import matplotlib.pyplot as plt\n",
    "\n",
    "x0 = 0   # m\n",
    "y0 = 0   # m\n",
    "vx0 = 20  # m/s\n",
    "vy0 = 20  # m/s\n",
    "g = 9.81 # m/s^2\n",
    "\n",
    "thit = (vy0 + np.sqrt(vy0**2+2*g*y0))/g\n",
    "print('thit = ', thit)\n",
    "\n",
    "t = np.linspace(0,thit,20)\n",
    "\n",
    "x = x0 + vx0*t\n",
    "y = y0 + vy0*t - (g/2)*t**2\n",
    "\n",
    "plt.plot(x, y, 'o-')\n",
    "plt.xlabel('x (m)', fontsize=12)\n",
    "plt.ylabel('y (m)', fontsize=12)\n",
    "plt.axis('equal')\n",
    "plt.title('Soccer Ball Trajectory')\n",
    "plt.grid('on');"
   ]
  },
  {
   "cell_type": "markdown",
   "metadata": {},
   "source": [
    "Does this look right to you? Do you see the motion? We will animate this soon, but not before making many more experiments and better understanding these initial conditions - and returning to our old questions \n",
    "\n",
    "- how fast was it moving when it hit the ground?\n",
    "- how high did it get?\n",
    "- how long did it take to get to it's highest point?\n",
    "\n",
    "and adding one more (very important) question\n",
    "\n",
    "- where does it hit the ground?\n",
    "\n",
    "First off, we used geometric language to say that our initial velocity, $(10,10)$, was at 45 degrees and of **magnitude** $10\\sqrt 2$ m/s. Can you reconcile these statements with the figure below?"
   ]
  },
  {
   "cell_type": "code",
   "execution_count": 4,
   "metadata": {},
   "outputs": [
    {
     "data": {
      "image/png": "[encoded data removed]",
      "text/plain": [
       "<Figure size 432x288 with 1 Axes>"
      ]
     },
     "metadata": {
      "needs_background": "light"
     },
     "output_type": "display_data"
    }
   ],
   "source": [
    "import numpy as np\n",
    "import matplotlib.pyplot as plt\n",
    "%matplotlib inline\n",
    "x = np.array([0, 10, 10, 0])\n",
    "y = np.array([0, 0, 10, 0])\n",
    "plt.plot(x,y,'k')  \n",
    "plt.text(2,4,'$\\Vert v_0\\Vert =10\\sqrt{2}$',fontsize=20, rotation = 45)\n",
    "plt.text(4,-1,'$v_{x0}=10$',fontsize=20)\n",
    "plt.text(10.1, 4.5,'$v_{y0}=10$',fontsize=20)\n",
    "plt.text(2,1,'$\\pi/4$',fontsize=20)\n",
    "plt.axis('off')\n",
    "plt.axis('equal');"
   ]
  },
  {
   "cell_type": "markdown",
   "metadata": {},
   "source": [
    "On contrasting this with last week's picture"
   ]
  },
  {
   "cell_type": "code",
   "execution_count": 3,
   "metadata": {},
   "outputs": [
    {
     "data": {
      "image/png": "[encoded data removed]",
      "text/plain": [
       "<Figure size 432x288 with 1 Axes>"
      ]
     },
     "metadata": {
      "needs_background": "light"
     },
     "output_type": "display_data"
    }
   ],
   "source": [
    "%matplotlib inline\n",
    "import numpy as np\n",
    "import matplotlib.pyplot as plt\n",
    "\n",
    "theta = np.pi/8\n",
    "plt.plot([0, np.cos(theta)],[0, 0],'k')  \n",
    "plt.text(0.5*np.cos(1.1*theta), 0.5*np.sin(1.1*theta),'r',fontsize=20)\n",
    "plt.plot([0, np.cos(theta)],[0, np.sin(theta)],'r')\n",
    "plt.plot([np.cos(theta), np.cos(theta)],[0, np.sin(theta)],'g')\n",
    "plt.text(1.05*np.cos(theta), 0.5*np.sin(theta),'$r*\\sin(\\\\theta)$',fontsize=20)\n",
    "plt.text(0.35*np.cos(theta), -.1,'$r*\\cos(\\\\theta)$',fontsize=20)\n",
    "plt.text(0.25*np.cos(theta/2), 0.25*np.sin(theta/2),'$\\\\theta$',fontsize=20)\n",
    "plt.axis('off')\n",
    "plt.axis('equal');"
   ]
  },
  {
   "cell_type": "markdown",
   "metadata": {},
   "source": [
    "We see that we can indeed specify the initial velocity with two numbers, an angle, say $\\theta$, and a magnitude, say $r$, in which case\n",
    "\n",
    "$$\n",
    "  \\boxed{ v_{x0} = r\\cos(\\theta) \\\\\n",
    "  v_{y0} = r\\sin(\\theta) }\n",
    "$$\n",
    "\n",
    "Let's add this feature to our soccer ball code and see where its takes us"
   ]
  },
  {
   "cell_type": "code",
   "execution_count": 2,
   "metadata": {},
   "outputs": [
    {
     "name": "stdout",
     "output_type": "stream",
     "text": [
      "Please enter the kick angle, in degrees: 20\n",
      "Please enter the magnitude of the initial velocity, in m/s: 10\n"
     ]
    },
    {
     "data": {
      "image/png": "[encoded data removed]",
      "text/plain": [
       "<Figure size 432x288 with 1 Axes>"
      ]
     },
     "metadata": {
      "needs_background": "light"
     },
     "output_type": "display_data"
    }
   ],
   "source": [
    "%matplotlib inline\n",
    "import numpy as np\n",
    "import matplotlib.pyplot as plt\n",
    "\n",
    "theta_deg = input('Please enter the kick angle, in degrees: ')\n",
    "theta = float(theta_deg)*np.pi/180\n",
    "mag = float(input('Please enter the magnitude of the initial velocity, in m/s: '))\n",
    "x0 = 0   # m\n",
    "y0 = 0   # m\n",
    "vx0 = mag*np.cos(theta)  # m/s\n",
    "vy0 = mag*np.sin(theta)  # m/s\n",
    "g = 9.81 # m/s^2\n",
    "\n",
    "thit = (vy0 + np.sqrt(vy0**2+2*g*y0))/g\n",
    "\n",
    "t = np.linspace(0,thit,20)\n",
    "\n",
    "x = x0 + vx0*t\n",
    "y = y0 + vy0*t - (g/2)*t**2\n",
    "\n",
    "plt.plot(x, y, 'o-')\n",
    "plt.xlabel('x (m)', fontsize=12)\n",
    "plt.ylabel('y (m)', fontsize=12)\n",
    "plt.axis('equal')\n",
    "plt.title('Soccer Ball Trajectory')\n",
    "plt.grid('on');"
   ]
  },
  {
   "cell_type": "markdown",
   "metadata": {},
   "source": [
    "Again, does this make sense? Try lots of angles and lots of magnitudes.\n",
    "\n",
    "Let's now return to our formula for $t_{hit}$ and note that when we launch from the ground, $y_0$, that $t_{hit}$ is simply\n",
    "\n",
    "$$\n",
    "  t_{hit} = 2v_{y0}/g = 2r\\sin(\\theta)/g. \\tag{thit_soccer}\n",
    "$$\n",
    "\n",
    "If we plug this into our $x(t)$ we'll be able to see **how far** the ball traveled! If we assume (naturally that $x_0=0$ too) then\n",
    "\n",
    "$$\n",
    "  \\eqalign{\n",
    "  x_{hit} &= x(t_{hit}) \\cr\n",
    "          &= x_0 + v_{x0}t_{hit} \\cr\n",
    "          & = 2r\\cos(\\theta)r\\sin(\\theta)/g \\cr\n",
    "          & = r^2\\sin(2\\theta)/g}  \\tag{xhit_soccer}\n",
    "$$"
   ]
  },
  {
   "cell_type": "markdown",
   "metadata": {},
   "source": [
    "where in the last step we used SiCo+SiCo. Can we reconcile this with our first soccer kick? In that case $r=10\\sqrt 2$ and $\\theta=\\pi/4$ and so our formula predicts\n",
    "\n",
    "$$\n",
    "  x_{hit} = 200\\sin(\\pi/2)/g = 200/9.81 \\approx 20.37\\ m\n",
    "$$\n",
    "\n",
    "just as in our first figure!\n",
    "\n",
    "Can we use the $x_{hit}$ formula to help score a goal? If my typical angle is $\\theta=\\pi/6$ (30 degrees) then how hard should I kick to reach the goal 30 meters away? That is, what value of $r$ satisfies\n",
    "\n",
    "$$\n",
    "  30 = r^2\\sin(\\pi/3)/g\n",
    "$$\n",
    "\n",
    "As $\\sin(\\pi/3) = \\sqrt{3}/2$ we see that\n",
    "\n",
    "$$\n",
    "  r = \\sqrt{60g/\\sqrt{3}} \\approx 18.434\\ m/s\n",
    "$$\n",
    "\n",
    "Try this $r$ and $\\theta$ in our second soccer cell to see if you hit the goal."
   ]
  },
  {
   "cell_type": "markdown",
   "metadata": {},
   "source": [
    "**Exercise 1.** What $r$ should I kick with to hit the goal 40 meters away if I kick with angle\n",
    "\n",
    "  (a) 20 degrees\n",
    "\n",
    "  (b) 30 degrees\n",
    "  \n",
    "  (c) 40 degrees\n",
    "\n",
    "Show all of your work in the cell below. (Warning: python assumes radians)"
   ]
  },
  {
   "cell_type": "code",
   "execution_count": 5,
   "metadata": {},
   "outputs": [
    {
     "data": {
      "text/plain": [
       "24.70761076389269"
      ]
     },
     "execution_count": 5,
     "metadata": {},
     "output_type": "execute_result"
    }
   ],
   "source": [
    "np.sqrt(9.81*40/np.sin(2*20*np.pi/180))"
   ]
  },
  {
   "cell_type": "markdown",
   "metadata": {},
   "source": [
    "Instead of asking for magnitude given angle we could instead ask for angle given magnitude. This might correspond to a goalie kicking as hard as possible but choosing the angle to reach a desired team-mate down-field.\n",
    "\n",
    "In this case we rearrange our $x_{hit}$ formula to solve for $\\theta$. To begin, do you agree that\n",
    "\n",
    "$$\n",
    "  \\sin(2\\theta) = x_{hit}g/r^2\n",
    "$$\n",
    "\n",
    "The get at the $\\theta$ we need to undo (or invert) the sine function. This was done with your calculator in Algebra II by pressing the sin and inv keys. This is done in numpy via the arcsin function. With that in hand we can solve our angle problem as as\n",
    "\n",
    "$$\n",
    "  \\theta = \\frac{1}{2}\\arcsin(x_{hit}g/r^2)\n",
    "$$\n",
    "\n",
    "Please note that all angle functions in python presume you are working in radians. "
   ]
  },
  {
   "cell_type": "markdown",
   "metadata": {},
   "source": [
    "**Exercise 2.** What $\\theta$ (in degrees) should I kick with to hit the goal 40 meters away if I kick with $r$ equal to\n",
    "\n",
    "  (a) 20 m/s\n",
    "\n",
    "  (b) 25 m/s\n",
    "  \n",
    "  (c) 30 m/s\n",
    "\n",
    "Show all of your work in the cell below."
   ]
  },
  {
   "cell_type": "code",
   "execution_count": 8,
   "metadata": {},
   "outputs": [
    {
     "data": {
      "text/plain": [
       "12.924471256992936"
      ]
     },
     "execution_count": 8,
     "metadata": {},
     "output_type": "execute_result"
    }
   ],
   "source": [
    "(1/2)*np.arcsin(40*9.81/30**2)*180/np.pi"
   ]
  },
  {
   "cell_type": "markdown",
   "metadata": {},
   "source": [
    "We now shift our attention to an aid-package \"dropped\" from an airplane. For example, if the plane is flying at an altitude of 1000 meters at a velocity of 100 meters/second then our first cell reveals that our package will land about 1400 meters in front of our drop position!"
   ]
  },
  {
   "cell_type": "code",
   "execution_count": 41,
   "metadata": {},
   "outputs": [
    {
     "data": {
      "image/png": "[encoded data removed]",
      "text/plain": [
       "<Figure size 432x288 with 1 Axes>"
      ]
     },
     "metadata": {
      "needs_background": "light"
     },
     "output_type": "display_data"
    }
   ],
   "source": [
    "%matplotlib inline\n",
    "import numpy as np\n",
    "import matplotlib.pyplot as plt\n",
    "\n",
    "x0 = 0   # m\n",
    "y0 = 1000   # m\n",
    "vx0 = 100  # m/s\n",
    "vy0 = 0  # m/s\n",
    "g = 9.81 # m/s^2\n",
    "\n",
    "thit = (vy0 + np.sqrt(vy0**2+2*g*y0))/g\n",
    "\n",
    "t = np.linspace(0,thit,20)\n",
    "\n",
    "x = x0 + vx0*t\n",
    "y = y0 + vy0*t - (g/2)*t**2\n",
    "\n",
    "plt.plot(x, y, 'rs-')\n",
    "plt.xlabel('x (m)', fontsize=12)\n",
    "plt.ylabel('y (m)', fontsize=12)\n",
    "plt.axis('equal')\n",
    "plt.title('Aid-package Trajectory')\n",
    "plt.grid('on');"
   ]
  },
  {
   "cell_type": "markdown",
   "metadata": {},
   "source": [
    "Again, does this make sense to you? Would you rather translate this code into feet and miles per hour?\n",
    "\n",
    "As $v_{y0}=0$ do you see that our $t_{hit}$ formula is simply\n",
    "\n",
    "$$\n",
    "  t_{hit} = \\sqrt{2y_0/g}   \\tag{thit_aid}\n",
    "$$\n",
    "\n",
    "Using the $y_0= 1000$ from our example we find that the aid package took\n",
    "\n",
    "$$\n",
    "  t_{hit} = \\sqrt{2000/9.81} \\approx 14.3\n",
    "$$\n",
    "\n",
    "seconds to reach the ground. As $x_0$ is still presumed 0 our formula for $x_{hit}$ is still\n",
    "\n",
    "$$\n",
    "  x_{hit} = v_{x0}t_{hit}\n",
    "$$\n",
    "\n",
    "which, in our example predicts\n",
    "\n",
    "$$\n",
    "  x_{hit} = 1000*14.3 = 1430\\ m\n",
    "$$\n",
    "\n",
    "as in our python graph. So theory and numerics continue to agree. For this setting however our aid agency is quite interested in the impact velocity, i.e., how fast it traveling when it lands? Will is bounce or break or both? How much\n",
    "and what kind of insulation should we use? These latter questions all depend on our solution to first question, how fast\n",
    "is it traveling when it lands.\n",
    "\n",
    "For this, we must augment our position equations with these velocity equations\n",
    "\n",
    "$$\n",
    "  v_x(t) = v_{x0} \\\\\n",
    "  v_y(t) = v_{y0} - gt\n",
    "$$\n",
    "\n",
    "These say that the $x$ component of the in flight velocity is simply it's initial velocity, while the $y$ component of the inflight velocity decreases with time (due to gravity). \n",
    "\n",
    "As such, these components at $t_{hit}$ are\n",
    "\n",
    "$$\n",
    "  v_x(t_{hit}) = v_{x0} \\\\\n",
    "  v_y(t_{hit}) = -gt_{hit} = -\\sqrt{2y_0g}\n",
    "$$\n",
    "\n",
    "and so the **terminal velocity** is the associated **magnitude**\n",
    "\n",
    "$$\n",
    "  \\boxed{v_{hit} = \\sqrt{v_x(t_{hit})^2 + v_y(t_{hit})^2} = \\sqrt{v_{x0}^2 + 2y_0g}}  \\tag{vhit_aid}\n",
    "$$\n",
    "\n",
    "which, using the values above, yields\n",
    "\n",
    "$$\n",
    "  v_{hit} = \\sqrt{100^2 + 2000g} \\approx 172.1\\ m/s\n",
    "$$\n",
    "\n"
   ]
  },
  {
   "cell_type": "markdown",
   "metadata": {},
   "source": [
    "**Exercise 3.** This $v_{hit}$ is deemed too large. Let us help the pilot find the right altitude for the drop. Let's assume that $v_{x0}=100\\ m/s$ remains her safe cruising speed. Please find $y_0$ so that the package's terminal velocity is\n",
    "\n",
    " (a) 150 m/s\n",
    " \n",
    " (b) 125 m/s\n",
    " \n",
    " (c) 100 m/s\n",
    " \n",
    "Please show all of your work in the cell below."
   ]
  },
  {
   "cell_type": "code",
   "execution_count": 3,
   "metadata": {},
   "outputs": [
    {
     "data": {
      "text/plain": [
       "0.05"
      ]
     },
     "execution_count": 3,
     "metadata": {},
     "output_type": "execute_result"
    }
   ],
   "source": [
    "(3 - 2) / (2 * 10)"
   ]
  },
  {
   "cell_type": "markdown",
   "metadata": {},
   "source": [
    "At these velocities we may still expect a considerable bounce. To predict the bounce we need to know the terminal angle as well. In the exercise above we were given the hypotenuse, $v_{hit}$, and the base $v_{x0}$, and since we know that the base is simply the product of the hypotenuse and the cosine of its angle with the base, i.e.,\n",
    "\n",
    "$$\n",
    "  v_{x0} = v_{hit}\\cos(\\theta_{hit})\n",
    "$$\n",
    "\n",
    "we may use $\\arccos$ to find $\\theta_{hit}$."
   ]
  },
  {
   "cell_type": "markdown",
   "metadata": {},
   "source": [
    "**Exercise 4.** Find the terminal angle for each of the three parts of Exercise 3. Please show all of your work in the cell below."
   ]
  },
  {
   "cell_type": "code",
   "execution_count": null,
   "metadata": {},
   "outputs": [],
   "source": []
  }
 ],
 "metadata": {
  "kernelspec": {
   "display_name": "Python 3",
   "language": "python",
   "name": "python3"
  },
  "language_info": {
   "codemirror_mode": {
    "name": "ipython",
    "version": 3
   },
   "file_extension": ".py",
   "mimetype": "text/x-python",
   "name": "python",
   "nbconvert_exporter": "python",
   "pygments_lexer": "ipython3",
   "version": "3.8.3"
  },
  "latex_envs": {
   "LaTeX_envs_menu_present": true,
   "autoclose": false,
   "autocomplete": false,
   "bibliofile": "",
   "cite_by": "apalike",
   "current_citInitial": 1,
   "eqLabelWithNumbers": true,
   "eqNumInitial": 1,
   "hotkeys": {
    "equation": "Ctrl-E",
    "itemize": "Ctrl-I"
   },
   "labels_anchors": false,
   "latex_user_defs": false,
   "report_style_numbering": true,
   "user_envs_cfg": true
  },
  "toc": {
   "base_numbering": 1,
   "nav_menu": {},
   "number_sections": true,
   "sideBar": true,
   "skip_h1_title": false,
   "title_cell": "Table of Contents",
   "title_sidebar": "Contents",
   "toc_cell": false,
   "toc_position": {},
   "toc_section_display": true,
   "toc_window_display": false
  }
 },
 "nbformat": 4,
 "nbformat_minor": 4
}
