{
 "cells": [
  {
   "cell_type": "markdown",
   "metadata": {},
   "source": [
    "# Quadratic Functions, Review\n",
    "\n",
    "**Objectives:**\n",
    "- Practice graphing Quadratic Functions and solving Quadratic Equations\n",
    "- To use jupyter notebooks as interactive graphical calculators that save your work."
   ]
  },
  {
   "cell_type": "markdown",
   "metadata": {},
   "source": [
    "We are preparing to study the height, $y$, of a moving object as a function of time, $t$.\n",
    "\n",
    "When the object is subject to a force (like gravity) that does not vary with time, then the height is a quadratic function of time\n",
    "\n",
    "$$\n",
    "  y(t) = at^2 + bt + c\n",
    "$$\n",
    "\n",
    "where $a$, $b$, and $c$, are constants determined by the nature of the force and initial state of the object. Please run the widget in the code cell below to see how the **shape of the quadratic** \n",
    "\n",
    "   - tightens with $a$\n",
    "   - twists with $b$ and\n",
    "   - lifts with $c$\n",
    "   \n",
    "by exploring the sliders."
   ]
  },
  {
   "cell_type": "code",
   "execution_count": null,
   "metadata": {},
   "outputs": [],
   "source": [
    "# Basic Widget for Exploring Quadratics\n",
    "%matplotlib notebook\n",
    "from ipywidgets import *\n",
    "import numpy as np\n",
    "import matplotlib.pyplot as plt\n",
    "\n",
    "t = np.linspace(-3, 2)\n",
    "fig = plt.figure()\n",
    "ax = fig.add_subplot(1, 1, 1)\n",
    "line, = ax.plot(t, t**2 + t - 1)\n",
    "plt.grid('on')\n",
    "ax.set_xlabel('t')\n",
    "ax.set_ylabel('y')\n",
    "ax.set_title('The graph of $y(t) = at^2 + bt + c$')\n",
    "\n",
    "def update(a = 1.0, b = 1.0, c = -1.0):\n",
    "    line.set_ydata(a*t**2 + b*t + c)\n",
    "    fig.canvas.draw_idle()\n",
    "\n",
    "interact(update);"
   ]
  },
  {
   "cell_type": "markdown",
   "metadata": {},
   "source": [
    "Our interest is in finding the time at which the object arrives at a particular height. If the height of the ground is 0 then it makes sense to look for solutions of\n",
    "\n",
    "$$\n",
    "  at^2 + bt + c = 0\n",
    "$$\n",
    "\n",
    "We can do this graphically by noting the $t$-values where the quadratic crosses the $t$-axis. We can also do this exactly\n",
    "via taking square roots when $b=0$. For in that case\n",
    "\n",
    "$$\n",
    "  \\hbox{Case b=0: }\\hskip 0.3in at^2 + c = 0 \\hskip 0.3in \\hbox{when} \\hskip 0.3in \\boxed{t = \\pm\\sqrt{-c/a}}\n",
    "$$\n",
    "\n",
    "Please practice this formula by running the code cell below. Also, note that in this case that $y$ achieves its peak value at the **vertex** $(0,-c)$."
   ]
  },
  {
   "cell_type": "code",
   "execution_count": null,
   "metadata": {},
   "outputs": [],
   "source": [
    "# pose   random   at^2 + c = 0   questions, solving for t\n",
    "# Press the Run button and work until you can get 10 right in less than one minute\n",
    "\n",
    "import numpy as np\n",
    "import time\n",
    "\n",
    "start_time = time.time()\n",
    "replies = 0\n",
    "score = 0\n",
    "while (replies < 10):\n",
    "    t = np.random.randint(1,6)\n",
    "    a = np.random.randint(1,6)*(-1)**np.random.randint(2)\n",
    "    c = -a*t**2\n",
    "    print('Consider: ' + str(a) + 't^2 + ' + str(c))\n",
    "    try:\n",
    "        ans = input('    its largest root is: ')\n",
    "        if ( abs(int(ans) - t) < 0.5 ):\n",
    "            print('       well done')\n",
    "            score = score + 1\n",
    "        else:\n",
    "            print('       not this time')\n",
    "        replies = replies + 1\n",
    "    except:\n",
    "        print('oops: I need a number')\n",
    "    print(' ')\n",
    "        \n",
    "print('Your Score is ' + str(score) + ' out of 10')\n",
    "print('You finished in ' + str(round(time.time()-start_time)) + ' seconds')"
   ]
  },
  {
   "cell_type": "markdown",
   "metadata": {},
   "source": [
    "In the general case, where $b\\ne 0$, we can invoke the **quadratic formula** derived in Section 2.5 of our A&T text.\n",
    "\n",
    "$$\n",
    "  \\boxed{t = \\frac{-b \\pm \\sqrt{b^2 - 4ac}}{2a}}\n",
    "$$\n",
    "\n",
    "To see where this comes from, we start from\n",
    "\n",
    "$$\n",
    "  at^2 + bt + c = 0\n",
    "$$\n",
    "\n",
    "we transpose the $c$ and divide by $a$, arriving at\n",
    "\n",
    "$$\n",
    "  t^2 + (b/a)t = -c/a\n",
    "$$\n",
    "\n",
    "and here we recognize that the left hand side may be written as a **square** by adding $b^2/(4a^2)$. On adding this to each side we arrive at\n",
    "\n",
    "$$\n",
    "  t^2 + (b/a)t + b^2/(4a^2) = -c/a + b^2/(4a^2)\n",
    "$$\n",
    "\n",
    "or, and here is the big deal,\n",
    "\n",
    "$$\n",
    "  (t+b/(2a))^2 = -c/a + b^2/(4a^2)  \\tag{vertform0}\n",
    "$$\n",
    "\n",
    "On now taking the square root of each side we find\n",
    "\n",
    "$$\n",
    "  t + b/(2a) = \\pm\\sqrt{-c/a + b^2/(4a^2)} = \\pm\\frac{\\sqrt{b^2-4ac}}{2a}\n",
    "$$\n",
    "\n",
    "and finally subtracting $b/(2a)$ from each side, arrive at\n",
    "\n",
    "$$\n",
    "  \\boxed{t = \\frac{-b \\pm \\sqrt{b^2 - 4ac}}{2a}}\n",
    "$$\n",
    "\n",
    "Please practice this formula by running the code cell below. "
   ]
  },
  {
   "cell_type": "code",
   "execution_count": null,
   "metadata": {},
   "outputs": [],
   "source": [
    "# pose   random   t^2 + bt + c = 0   questions, solving for t\n",
    "# Press the Run button and work until you can get 10 right in less than three minutes\n",
    "# the answer is ( -b + sqrt(b*b - 4*c) ) / 2\n",
    "\n",
    "import numpy as np\n",
    "import time\n",
    "\n",
    "start_time = time.time()\n",
    "replies = 0\n",
    "score = 0\n",
    "while (replies < 10):\n",
    "    t1 = np.random.randint(1,6)*(-1)**np.random.randint(2)\n",
    "    t2 = t1 - np.random.randint(1,6)\n",
    "    a = 1\n",
    "    b = -t1 - t2\n",
    "    c = t1*t2\n",
    "    print('Consider: t^2 + ' + str(b) + 't + ' + str(c))\n",
    "    try:\n",
    "       ans = input('    its largest root is: ')\n",
    "       if ( abs(int(ans) - t1) < 0.5 ):\n",
    "           print('       well done')\n",
    "           score = score + 1\n",
    "       else:\n",
    "           print('       not this time')\n",
    "       replies = replies + 1\n",
    "    except:\n",
    "        print('oops: I need a number')\n",
    "    print(' ')\n",
    "        \n",
    "print('Your Score is ' + str(score) + ' out of 10')\n",
    "print('You finished in ' + str(round(time.time()-start_time)) + ' seconds')"
   ]
  },
  {
   "cell_type": "markdown",
   "metadata": {},
   "source": [
    "From the (vertform0) equation we multiply across by $a$ and arrive at\n",
    "\n",
    "$$\n",
    "  \\boxed{a(t+b/(2a))^2 = -c + b^2/(4a) } \\tag{vertform}\n",
    "$$\n",
    "\n",
    "and conclude that $y$ achieves its peak value at the **vertex** \n",
    "\n",
    "$$\n",
    "  (-b/(2a),c-b^2/(4a)),\n",
    "$$\n",
    "\n",
    "in agreement with Section 5.1 of A&T.\n",
    "\n",
    "Let's beef up our widget to mark this point."
   ]
  },
  {
   "cell_type": "code",
   "execution_count": null,
   "metadata": {},
   "outputs": [],
   "source": [
    "# Basic Widget for Exploring Quadratics, with vertex marker\n",
    "%matplotlib notebook\n",
    "from ipywidgets import *\n",
    "import numpy as np\n",
    "import matplotlib.pyplot as plt\n",
    "\n",
    "t = np.linspace(-3, 2)\n",
    "fig = plt.figure()\n",
    "ax = fig.add_subplot(1, 1, 1)\n",
    "line, = ax.plot(t, t**2 + t - 1)\n",
    "vert, = ax.plot(-0.5,-1.25, 'gs')\n",
    "plt.grid('on')\n",
    "ax.set_xlabel('t')\n",
    "ax.set_ylabel('y')\n",
    "ax.set_title('The graph of $y(t) = at^2 + bt + c$ with vertex in green')\n",
    "\n",
    "def update(a = 1.0, b = 1.0, c = -1.0):\n",
    "    line.set_ydata(a*t**2 + b*t + c)\n",
    "    vert.set_xdata(-b/(2*a))\n",
    "    vert.set_ydata(c-b**2/(4*a))\n",
    "    fig.canvas.draw_idle()\n",
    "\n",
    "interact(update);"
   ]
  },
  {
   "cell_type": "markdown",
   "metadata": {},
   "source": [
    "## Homework:  Solving Quadratics\n",
    "\n",
    "1. Complete the previous two practice cells, solving quadratic equations.\n",
    "\n",
    "2. In the code cell below build a widget (adding to our second widget above) that uses the quadratic formula to paint red circles at the roots."
   ]
  },
  {
   "cell_type": "code",
   "execution_count": null,
   "metadata": {},
   "outputs": [],
   "source": []
  },
  {
   "cell_type": "markdown",
   "metadata": {},
   "source": [
    "3. Show in the Markdown Cell below that $\\sqrt{-c/a + b^2/(4a^2)}$ simplifies to $\\sqrt{b^2-4ac}/(2a)$"
   ]
  },
  {
   "cell_type": "markdown",
   "metadata": {},
   "source": []
  },
  {
   "cell_type": "markdown",
   "metadata": {},
   "source": [
    "4. Show in the Markdown cell below\n",
    "\n",
    "$$\n",
    "  t = \\frac{-b \\pm \\sqrt{b^2 - 4ac}}{2a}\n",
    "$$\n",
    "\n",
    "reduces to \n",
    "\n",
    "$$\n",
    "  t = \\pm\\sqrt{-c/a}\n",
    "$$\n",
    "\n",
    "when $b=0$."
   ]
  },
  {
   "cell_type": "markdown",
   "metadata": {},
   "source": []
  },
  {
   "cell_type": "code",
   "execution_count": null,
   "metadata": {},
   "outputs": [],
   "source": []
  }
 ],
 "metadata": {
  "kernelspec": {
   "display_name": "Python 3",
   "language": "python",
   "name": "python3"
  },
  "language_info": {
   "codemirror_mode": {
    "name": "ipython",
    "version": 3
   },
   "file_extension": ".py",
   "mimetype": "text/x-python",
   "name": "python",
   "nbconvert_exporter": "python",
   "pygments_lexer": "ipython3",
   "version": "3.8.3"
  },
  "latex_envs": {
   "LaTeX_envs_menu_present": true,
   "autoclose": false,
   "autocomplete": false,
   "bibliofile": "",
   "cite_by": "apalike",
   "current_citInitial": 1,
   "eqLabelWithNumbers": true,
   "eqNumInitial": 1,
   "hotkeys": {
    "equation": "Ctrl-E",
    "itemize": "Ctrl-I"
   },
   "labels_anchors": false,
   "latex_user_defs": false,
   "report_style_numbering": true,
   "user_envs_cfg": true
  },
  "toc": {
   "base_numbering": 1,
   "nav_menu": {},
   "number_sections": true,
   "sideBar": true,
   "skip_h1_title": false,
   "title_cell": "Table of Contents",
   "title_sidebar": "Contents",
   "toc_cell": false,
   "toc_position": {},
   "toc_section_display": true,
   "toc_window_display": false
  }
 },
 "nbformat": 4,
 "nbformat_minor": 4
}
