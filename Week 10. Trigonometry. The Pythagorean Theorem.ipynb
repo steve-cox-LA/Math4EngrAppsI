{
 "cells": [
  {
   "cell_type": "markdown",
   "metadata": {},
   "source": [
    "# The Pythagorean Theorem\n",
    "\n",
    "We wish to demonstrate and exploit a beautiful identity between the lengths of legs of a right triangle.\n",
    "\n",
    "To keep things simple, we label their lengths by a, b, and c."
   ]
  },
  {
   "cell_type": "code",
   "execution_count": 24,
   "metadata": {},
   "outputs": [
    {
     "data": {
      "image/png": "[encoded data removed]",
      "text/plain": [
       "<Figure size 432x288 with 1 Axes>"
      ]
     },
     "metadata": {
      "needs_background": "light"
     },
     "output_type": "display_data"
    }
   ],
   "source": [
    "import numpy as np\n",
    "import matplotlib.pyplot as plt\n",
    "%matplotlib inline\n",
    "theta = np.pi/8\n",
    "c = np.cos(theta)\n",
    "s = np.sin(theta)\n",
    "x = np.array([0, c, c, 0])\n",
    "y = np.array([0, 0, s, 0])\n",
    "plt.plot(x,y,'k')  \n",
    "plt.text(0.5*np.cos(1.1*theta), 0.55*np.sin(1.1*theta),'c',fontsize=20)\n",
    "plt.text(1.025*np.cos(theta), 0.5*np.sin(theta),'b',fontsize=20)\n",
    "plt.text(0.5*np.cos(theta), -.05,'a',fontsize=20)\n",
    "plt.axis('off')\n",
    "plt.axis('equal');"
   ]
  },
  {
   "cell_type": "markdown",
   "metadata": {},
   "source": [
    "We build up to our desired result by appending rotated and translated copies of our triangle."
   ]
  },
  {
   "cell_type": "code",
   "execution_count": 34,
   "metadata": {},
   "outputs": [
    {
     "data": {
      "image/png": "[encoded data removed]",
      "text/plain": [
       "<Figure size 432x288 with 1 Axes>"
      ]
     },
     "metadata": {
      "needs_background": "light"
     },
     "output_type": "display_data"
    }
   ],
   "source": [
    "x = np.array([0, c, c, 0])\n",
    "y = np.array([0, 0, s, 0])\n",
    "plt.fill(x,y,'k', alpha=0.5) \n",
    "plt.text(0.5,-.1, 'a', fontsize=12), plt.text(1,0.1, 'b', fontsize=12), plt.text(0.5,0.3, 'c', fontsize=12)\n",
    "\n",
    "x2 = c - y\n",
    "y2 = s + x\n",
    "plt.fill(x2, y2, 'r', alpha=0.5)\n",
    "plt.text(1,0.9, 'a', fontsize=12), plt.text(0.75,1.35, 'b', fontsize=12), plt.text(0.65,0.8, 'c', fontsize=12)\n",
    "\n",
    "x3 = x2[2] - x\n",
    "y3 = y2[2] - y\n",
    "plt.fill(x3, y3, 'b', alpha=0.5)\n",
    "plt.text(0,1.35, 'a', fontsize=12), plt.text(-.5,1.1, 'b', fontsize=12), plt.text(0.1,1, 'c', fontsize=12)\n",
    "\n",
    "x4 = x3[2] + y\n",
    "y4 = y3[2] - x\n",
    "plt.fill(x4, y4, 'g', alpha=0.5)\n",
    "plt.text(-.5,.4, 'a', fontsize=12), plt.text(-.25,-.1, 'b', fontsize=12), plt.text(-.1,0.4, 'c', fontsize=12)\n",
    "\n",
    "plt.axis('off')\n",
    "plt.axis('equal');"
   ]
  },
  {
   "cell_type": "markdown",
   "metadata": {},
   "source": [
    "To get the red triangle we rotated the black by 90 degrees and translated.\n",
    "\n",
    "To get the blue triangle we rotated the black by 180 degrees and translated.\n",
    "\n",
    "To get the green triangle we rotated the black by 270 degrees and translated.\n",
    "\n",
    "As these actions do not stretch any sides, we get the side lengths as pictured.\n",
    "\n",
    "It remains to note that we have created a square, of side length, a+b, that contains a square of side length c and four triangles of equal area.\n",
    "\n",
    "Let's record these areas\n",
    "\n",
    "- area of triangle = $ab/2$\n",
    "- area of inner square = $c^2$\n",
    "- area of outer square = $(a+b)^2 = a^2 + 2ab + b^2$\n",
    "\n",
    "But of course there is another way to compute the area of the outer square. In particular \n",
    "\n",
    "- area of outer square = area of inner square + 4 times the area of a triangle = $c^2 + 4ab/2$ = $c^2+2ab$\n",
    "\n",
    "As the square has only one area it follows that our two pathes must lead to the same answer, i.e.,\n",
    "\n",
    "$$\n",
    "  a^2 + 2ab + b^2 = c^2+2ab\n",
    "$$\n",
    "\n",
    "which, after canceling the $2ab$ from each side, reveals\n",
    "\n",
    "$$\n",
    "  \\boxed{a^2 + b^2 = c^2}\n",
    "$$\n",
    "\n",
    "Given the side lengths, $a$ and $b$, we may solve this equation for the hypotenuse\n",
    "\n",
    "$$\n",
    "  c = \\sqrt{a^2 + b^2}\n",
    "$$\n",
    "\n",
    "For example, if $a=3$ and $b=4$ we find\n",
    "\n",
    "$$\n",
    "  c = \\sqrt{a^2 + b^2} = \\sqrt{9+16} = \\sqrt{25} = 5\n",
    "$$\n",
    "\n",
    "This next cell will give you some practice with setting up and taking these square roots."
   ]
  },
  {
   "cell_type": "code",
   "execution_count": 30,
   "metadata": {},
   "outputs": [
    {
     "name": "stdout",
     "output_type": "stream",
     "text": [
      "If a = 12 and b = 16 then what is c? 20\n",
      "       well done\n",
      " \n",
      "If a = 15 and b = 8 then what is c? 17\n",
      "       well done\n",
      " \n",
      "If a = 5 and b = 12 then what is c? 13\n",
      "       well done\n",
      " \n",
      "If a = 7 and b = 24 then what is c? 25\n",
      "       well done\n",
      " \n",
      "If a = 8 and b = 6 then what is c? 10\n",
      "       well done\n",
      " \n",
      "If a = 8 and b = 6 then what is c? 10\n",
      "       well done\n",
      " \n",
      "If a = 8 and b = 6 then what is c? 10\n",
      "       well done\n",
      " \n",
      "If a = 8 and b = 6 then what is c? 10\n",
      "       well done\n",
      " \n",
      "If a = 5 and b = 12 then what is c? 13\n",
      "       well done\n",
      " \n",
      "If a = 5 and b = 12 then what is c? 13\n",
      "       well done\n",
      " \n",
      "Your Score is 10 out of 10\n",
      "You finished in 46 seconds\n"
     ]
    }
   ],
   "source": [
    "# pose   random  c = sqrt(a^2+b^2)  questions\n",
    "# Press the Run button and work until you can get 10 right in less than a minute\n",
    "\n",
    "import numpy as np\n",
    "import time\n",
    "\n",
    "start_time = time.time()\n",
    "replies = 0\n",
    "score = 0\n",
    "\n",
    "while (replies < 10):\n",
    "    \n",
    "    m = np.random.randint(2,5)\n",
    "    n = np.random.randint(1,m) \n",
    "    a = m**2 - n**2\n",
    "    b = 2*m*n\n",
    "    \n",
    "    try:\n",
    "       ans = input('If a = ' + str(a) + ' and b = ' + str(b) + ' then what is c? ')\n",
    "       ians = int(ans)\n",
    "       if ( abs(ians-(m**2+n**2)) < 0.5 ):\n",
    "           print('       well done')\n",
    "           score = score + 1\n",
    "       else:\n",
    "           print('       not this time')\n",
    "       print(' ')\n",
    "       replies = replies + 1\n",
    "    except:\n",
    "        print('oops: I need a whole number')\n",
    "        print(' ')\n",
    "\n",
    "print('Your Score is ' + str(score) + ' out of 10')\n",
    "print('You finished in ' + str(round(time.time()-start_time)) + ' seconds')"
   ]
  },
  {
   "cell_type": "markdown",
   "metadata": {},
   "source": [
    "The Pythagorean Theorem permits us to find the distance between any two points in the plane.\n",
    "For example, let's find how far (1,2) is from (5,5).\n",
    "\n",
    "In the cell below we graph these two black points and connect them with a black line. Our mind then fills in the right triangle with leg lengths\n",
    "\n",
    "$$\n",
    "  a = 5 - 1 = 4 \\\\\n",
    "  b = 5 - 2 = 3\n",
    "$$\n",
    "\n",
    "and the distance between our points is just the hypotenuse\n",
    "\n",
    "$$\n",
    "  c = \\sqrt{a^2+b^2} = 5\n",
    "$$\n",
    "  \n"
   ]
  },
  {
   "cell_type": "code",
   "execution_count": 2,
   "metadata": {},
   "outputs": [
    {
     "data": {
      "text/plain": [
       "9.809607455470845"
      ]
     },
     "execution_count": 2,
     "metadata": {},
     "output_type": "execute_result"
    }
   ],
   "source": [
    "(6.6743e-11)*(5.979e24)/(6.3781e6)**2"
   ]
  },
  {
   "cell_type": "code",
   "execution_count": 6,
   "metadata": {},
   "outputs": [
    {
     "data": {
      "image/png": "[encoded data removed]",
      "text/plain": [
       "<Figure size 432x288 with 1 Axes>"
      ]
     },
     "metadata": {
      "needs_background": "light"
     },
     "output_type": "display_data"
    }
   ],
   "source": [
    "%matplotlib inline\n",
    "import numpy as np\n",
    "import matplotlib.pyplot as plt\n",
    "\n",
    "plt.plot([1, 5],[2, 5],'ko-')\n",
    "plt.plot([1,5], [2,2], 'r--')\n",
    "plt.plot([5,5], [2,5], 'b--')\n",
    "\n",
    "plt.xlabel('x', fontsize=12)\n",
    "plt.ylabel('y', fontsize=12)\n",
    "plt.grid('on')\n",
    "plt.axis('equal');"
   ]
  },
  {
   "cell_type": "markdown",
   "metadata": {},
   "source": [
    "In general, the distance from $(x_1,y_1)$ to $(x_2,y_2)$ is\n",
    "\n",
    "$$\n",
    "  \\sqrt{(x_1-x_2)^2 + (y_1-y_2)^2} \\tag{distance}\n",
    "$$"
   ]
  },
  {
   "cell_type": "code",
   "execution_count": 5,
   "metadata": {},
   "outputs": [
    {
     "name": "stdout",
     "output_type": "stream",
     "text": [
      "How far is (10, 5) from  (22, 21) ? 20\n",
      "       well done\n",
      " \n",
      "How far is (0, 4) from  (8, 10) ? 10\n",
      "       well done\n",
      " \n",
      "How far is (8, 3) from  (23, 11) ? 17\n",
      "       well done\n",
      " \n",
      "How far is (1, 1) from  (4, 5) ? 5\n",
      "       well done\n",
      " \n",
      "How far is (4, 7) from  (9, 19) ? 13\n",
      "       well done\n",
      " \n",
      "How far is (2, 3) from  (5, 7) ? 5\n",
      "       well done\n",
      " \n",
      "How far is (6, 5) from  (14, 11) ? 10\n",
      "       well done\n",
      " \n",
      "How far is (1, 3) from  (4, 7) ? 5\n",
      "       well done\n",
      " \n",
      "How far is (2, 4) from  (9, 28) ? 16\n",
      "       not this time\n",
      " \n",
      "How far is (9, 3) from  (24, 11) ? 20\n",
      "       not this time\n",
      " \n",
      "Your Score is 8 out of 10\n",
      "You finished in 66 seconds\n"
     ]
    }
   ],
   "source": [
    "# pose   random  c = sqrt((x1-x2)^2+(y1-y2)^2)  questions\n",
    "# Press the Run button and work until you can get 10 right in less than a minute\n",
    "\n",
    "import numpy as np\n",
    "import time\n",
    "\n",
    "start_time = time.time()\n",
    "replies = 0\n",
    "score = 0\n",
    "\n",
    "while (replies < 10):\n",
    "    \n",
    "    m = np.random.randint(2,5)\n",
    "    n = np.random.randint(1,m) \n",
    "    a = m**2 - n**2\n",
    "    x1 = np.random.randint(a)\n",
    "    x2 = a + x1\n",
    "    b = 2*m*n\n",
    "    y1 = np.random.randint(b)\n",
    "    y2 = b + y1\n",
    "    \n",
    "    try:\n",
    "       ans = input('How far is (' + str(x1) + ', ' + str(y1) + ') from  (' + str(x2) + ', ' + str(y2) + ') ? ')\n",
    "       ians = int(ans)\n",
    "       if ( abs(ians-(m**2+n**2)) < 0.5 ):\n",
    "           print('       well done')\n",
    "           score = score + 1\n",
    "       else:\n",
    "           print('       not this time')\n",
    "       print(' ')\n",
    "       replies = replies + 1\n",
    "    except:\n",
    "        print('oops: I need a whole number')\n",
    "        print(' ')\n",
    "\n",
    "print('Your Score is ' + str(score) + ' out of 10')\n",
    "print('You finished in ' + str(round(time.time()-start_time)) + ' seconds')"
   ]
  },
  {
   "cell_type": "markdown",
   "metadata": {},
   "source": [
    "To derive trigonometric consequences from Pythagoras we return to our angular labeling of the basic right triangle"
   ]
  },
  {
   "cell_type": "code",
   "execution_count": 2,
   "metadata": {},
   "outputs": [
    {
     "data": {
      "image/png": "[encoded data removed]",
      "text/plain": [
       "<Figure size 432x288 with 1 Axes>"
      ]
     },
     "metadata": {
      "needs_background": "light"
     },
     "output_type": "display_data"
    }
   ],
   "source": [
    "%matplotlib inline\n",
    "import numpy as np\n",
    "import matplotlib.pyplot as plt\n",
    "\n",
    "theta = np.pi/8\n",
    "plt.plot([0, np.cos(theta)],[0, 0],'k')  \n",
    "plt.text(0.5*np.cos(1.1*theta), 0.5*np.sin(1.1*theta),'r',fontsize=20)\n",
    "plt.plot([0, np.cos(theta)],[0, np.sin(theta)],'r')\n",
    "plt.plot([np.cos(theta), np.cos(theta)],[0, np.sin(theta)],'g')\n",
    "plt.text(1.05*np.cos(theta), 0.5*np.sin(theta),'$r*\\sin(\\\\theta)$',fontsize=20)\n",
    "plt.text(0.35*np.cos(theta), -.1,'$r*\\cos(\\\\theta)$',fontsize=20)\n",
    "plt.text(0.25*np.cos(theta/2), 0.25*np.sin(theta/2),'$\\\\theta$',fontsize=20)\n",
    "plt.axis('off')\n",
    "plt.axis('equal');"
   ]
  },
  {
   "cell_type": "markdown",
   "metadata": {},
   "source": [
    "The Pythagorean principle now states that\n",
    "$$\n",
    "  r^2\\cos^2(\\theta) + r^2\\sin^2(\\theta) = r^2\n",
    "$$\n",
    "which, after cancelling the common $r^2$ reveals\n",
    "$$\n",
    "  \\boxed{\\cos^2(\\theta) + \\sin^2(\\theta) = 1}\n",
    "$$\n",
    "We illustrate this amazing identity in the cell below"
   ]
  },
  {
   "cell_type": "code",
   "execution_count": 5,
   "metadata": {},
   "outputs": [
    {
     "data": {
      "image/png": "[encoded data removed]",
      "text/plain": [
       "<Figure size 432x288 with 1 Axes>"
      ]
     },
     "metadata": {
      "needs_background": "light"
     },
     "output_type": "display_data"
    }
   ],
   "source": [
    "theta = np.linspace(0, 2*np.pi, 1000)\n",
    "plt.plot(theta, np.cos(theta)**2, 'r')\n",
    "plt.plot(theta, np.sin(theta)**2, 'b')\n",
    "plt.plot(theta, np.cos(theta)**2 + np.sin(theta)**2, 'k')\n",
    "plt.legend(['$\\cos^2$','$\\sin^2$','$\\cos^2+\\sin^2$'])\n",
    "plt.xlabel('$\\\\theta$')\n",
    "plt.grid('on')"
   ]
  },
  {
   "cell_type": "markdown",
   "metadata": {},
   "source": [
    "Let's now use this, together with last week's cool identity\n",
    "\n",
    "$$\n",
    "  \\cos(\\theta)=\\sin(\\pi/2-\\theta)\n",
    "$$\n",
    "\n",
    "to learn a few more values of $\\cos$ and $\\sin$.a If we place $\\theta=\\pi/4$ in the identity above we find\n",
    "\n",
    "$$\n",
    "  \\cos(\\pi/4) = \\sin(\\pi/4)\n",
    "$$\n",
    "\n",
    "which you may remember as \"a 45-45 right triangle as legs of equal length.\" Substituting this last fact into the\n",
    "Pythagorean Theorem then brings\n",
    "\n",
    "$$\n",
    "  2\\cos^2(\\pi/4) = 1\n",
    "$$\n",
    "\n",
    "which we solve to conclude that\n",
    "\n",
    "$$\n",
    "  \\boxed{\\cos(\\pi/4) = \\sin(\\pi/4) = 1/\\sqrt{2} \\approx 0.707}\n",
    "$$\n",
    "\n",
    "Can you see this in the plot above?\n",
    "\n",
    "Applying similar reasoning to odd multiples of $\\pi/4$, do you \"see\" that\n",
    "\n",
    "$$\n",
    "  -\\cos(3\\pi/4) = \\sin(3\\pi/4) = 1/\\sqrt{2} \\\\\n",
    "  \\cos(5\\pi/4) = \\sin(5\\pi/4) = -1/\\sqrt{2} \\\\\n",
    "  \\cos(7\\pi/4) = -\\sin(7\\pi/4) = 1/\\sqrt{2}\n",
    "$$\n",
    "\n",
    "You now **know** sin and cos at 8 places. "
   ]
  },
  {
   "cell_type": "markdown",
   "metadata": {},
   "source": [
    "We next construct a picture proof, using the same arguments as above, of the beautiful\n",
    "\n",
    "$$\n",
    "   \\boxed{\\cos(B-A) = \\cos(B)\\cos(A) + \\sin(A)\\sin(B)}\n",
    "$$\n",
    "\n",
    "We begin with legs, to the unit circle, at angles $B$ and $A$. We connect these legs with a solid green chord.\n",
    "Then we rotate this triangle, clockwise, by the angle $A$, and arrive at the triangle with a dashed green chord."
   ]
  },
  {
   "cell_type": "code",
   "execution_count": 7,
   "metadata": {},
   "outputs": [
    {
     "data": {
      "image/png": "[encoded data removed]",
      "text/plain": [
       "<Figure size 432x288 with 1 Axes>"
      ]
     },
     "metadata": {
      "needs_background": "light"
     },
     "output_type": "display_data"
    }
   ],
   "source": [
    "import numpy as np\n",
    "import matplotlib.pyplot as plt\n",
    "\n",
    "t = np.linspace(0, np.pi/2, 100)   # draw blue arc of unit circle\n",
    "plt.plot(np.cos(t), np.sin(t))\n",
    "\n",
    "A = np.pi/4\n",
    "B = 1.5*a\n",
    "\n",
    "plt.plot([0, np.cos(B)],[0, np.sin(B)],'k')   # draw orginal triangle with legs of angle b and a\n",
    "plt.text(1.05*np.cos(B), 1.05*np.sin(B),'$(\\cos(B),\\sin(B))$', fontsize =  14)\n",
    "plt.plot([0, np.cos(A)],[0, np.sin(A)],'r')\n",
    "plt.text(1.05*np.cos(A), 1.05*np.sin(A),'$(\\cos(A),\\sin(A))$', fontsize =  14)\n",
    "plt.text(0.5*np.cos((b+a)/2), 0.5*np.sin((b+a)/2), '$B-A$', rotation = 50, fontsize =  14)\n",
    "plt.plot([np.cos(A), np.cos(B)],[np.sin(A), np.sin(B)],'g')\n",
    "\n",
    "plt.plot([0, np.cos(B-A)],[0, np.sin(B-A)],'k--')  # rotate that triangle clockwise by angle a\n",
    "plt.text(1.05*np.cos(B-A), 1.05*np.sin(B-A),'$(\\cos(B-A),\\sin(B-A))$', fontsize =  14)\n",
    "plt.plot([0, np.cos(A-A)],[0, np.sin(A-A)],'r--')\n",
    "plt.text(1.05*np.cos(A-A), 1.05*np.sin(A-A),'$(1,0)$', fontsize =  14)\n",
    "plt.text(0.5*np.cos((B-A)/2), 0.5*np.sin((B-A)/2), '$B-A$', rotation = 10, fontsize =  14)\n",
    "plt.plot([np.cos(A-A), np.cos(B-A)],[np.sin(A-A), np.sin(B-A)],'g--')\n",
    "\n",
    "plt.axis('off')\n",
    "plt.axis('equal');"
   ]
  },
  {
   "cell_type": "markdown",
   "metadata": {},
   "source": [
    "As rotation does not change lengths it follows that the length of the green chord is the length of the dashed green cord. It is almost always easier to work with squared lengths. Recall that the square of the distance between two points is the sum of the squares of the coordinate differences. Hence, the square of the length of the green chord is\n",
    "\n",
    "$$\n",
    "  (\\cos(B)-\\cos(A))^2 + (\\sin(B)-\\sin(A))^2\n",
    "$$\n",
    "\n",
    "which by FOIL and $\\sin^2(\\theta)+\\cos^2(\\theta)=1$ for every $\\theta$, yields\n",
    "\n",
    "$$\n",
    "  \\hbox{the square of the length of the green chord is  } 2 - 2\\cos(A)\\cos(B) - 2\\sin(A)\\sin(B).     \n",
    "$$\n",
    "\n",
    "By the same reasoning, the square of the length of the dashed green chord is\n",
    "\n",
    "$$\n",
    "  (\\cos(B-A)-1)^2 + (\\sin(B-A)-0)^2\n",
    "$$\n",
    "\n",
    "which by FOIL and $\\sin^2(\\theta)+\\cos^2(\\theta)=1$ for every $\\theta$, reveals\n",
    "\n",
    "$$\n",
    "  \\hbox{the square of the length of the dashed green chord is   } 2 - 2\\cos(B-A).     \n",
    "$$\n",
    "\n",
    "As the squares of these two lengths must be equal we find\n",
    "\n",
    "$$\n",
    "  2 - 2\\cos(A)\\cos(B) - 2\\sin(A)\\sin(B) = 2 - 2\\cos(B-A)\n",
    "$$\n",
    "\n",
    "which says\n",
    "\n",
    "$$\n",
    "  \\boxed{\\cos(B-A) = \\cos(A)\\cos(B) + \\sin(A)\\sin(B)}\n",
    "$$\n",
    "\n",
    "Now our picture stays in the first quadrant just to keep things simple, but of course we might replace $a$ with $-a$, in which case\n",
    "\n",
    "$$\n",
    "  \\cos(B--A) = \\cos(-A)\\cos(B) + \\sin(-A)\\sin(B)\n",
    "$$\n",
    "\n",
    "becomes (recalling that $\\cos$ is even and $\\sin$ is odd)\n",
    "\n",
    "$$\n",
    "  \\boxed{\\cos(B+A) = \\cos(A)\\cos(B) - \\sin(A)\\sin(B)} \\tag{CoCo-SiSi}\n",
    "$$\n",
    "\n",
    "Now, lets replace $B$ with $\\pi/2-b$ in the box\n",
    "\n",
    "$$\n",
    "  \\cos(\\pi/2 - B-A) = \\cos(A)\\cos(\\pi/2-B) + \\sin(A)\\sin(\\pi/2-B)\n",
    "$$\n",
    "\n",
    "and arrive at\n",
    "\n",
    "$$\n",
    "  \\boxed{\\sin(B+A) = \\sin(B)\\cos(A) + \\sin(A)\\cos(B)} \\tag{SiCo+SiCo}\n",
    "$$\n",
    "\n",
    "We shall meet countless applications of these basic identities as we pursue engineering problems in the plane and in space.\n",
    "\n",
    "To begin, let's add $\\pi/6$ (and its multiples) to our list of places where sin and cos take \"nice\" values. Do you see that\n",
    "\n",
    "$$\n",
    "  \\cos(\\pi/3) = \\cos^2(\\pi/6) - \\sin^2(\\pi/6) = 1 - 2\\sin^2(\\pi/6)\n",
    "$$\n",
    "\n",
    "and that\n",
    "\n",
    "$$\n",
    "  \\cos(\\pi/3) = \\sin(\\pi/2-\\pi/3) = \\sin(\\pi/6)\n",
    "$$\n",
    "\n",
    "and so\n",
    "\n",
    "$$\n",
    "  2\\sin^2(\\pi/6) + \\sin(\\pi/6) - 1 = 0\n",
    "$$\n",
    "\n",
    "and so, by the quadratic formula\n",
    "\n",
    "$$\n",
    "  \\sin(\\pi/6) = \\frac{-1 \\pm \\sqrt{1+8}}{4} = 1/2\\hbox{  or  }-1\n",
    "$$\n",
    "\n",
    "The first root is the only one that make geometric sense, and so\n",
    "\n",
    "$$\n",
    "  \\sin(\\pi/6) = 1/2 \\hbox{     and      }\\\\ \\cos(\\pi/6) = \\sqrt{1-\\sin^2(\\pi/6)} = \\sqrt{3/4} = \\sqrt 3/2\n",
    "$$\n",
    "\n",
    "These into (SiCo+SiCo) and (CoCo-SiSi) then yield\n",
    "\n",
    "$$\n",
    "  \\sin(\\pi/3) = \\sin(\\pi/6+\\pi/6) = 2\\sin(\\pi/6)\\cos(\\pi/6) = \\sqrt 3/2 \\\\\n",
    "  \\cos(\\pi/3) = \\cos(\\pi/6+\\pi/6) = \\cos^2(\\pi/6) - \\sin^2(\\pi/6) = 1/2.\n",
    "$$\n",
    "\n",
    "We now **know** sine and cosine at multiples of $\\pi/6$ and $\\pi/4$. Lists of values are awkward. Pictures are worth a thousand words, while formulas are worth a thousand pictures. We plot below these known values of sine and cosine for angles in the first quadrant."
   ]
  },
  {
   "cell_type": "code",
   "execution_count": 15,
   "metadata": {},
   "outputs": [
    {
     "data": {
      "image/png": "[encoded data removed]",
      "text/plain": [
       "<Figure size 432x288 with 1 Axes>"
      ]
     },
     "metadata": {
      "needs_background": "light"
     },
     "output_type": "display_data"
    }
   ],
   "source": [
    "import numpy as np\n",
    "import matplotlib.pyplot as plt\n",
    "\n",
    "pi = np.pi\n",
    "t = np.linspace(0, pi/2, 100)   \n",
    "plt.plot(t, np.sin(t),'b')\n",
    "plt.plot(t, np.cos(t),'r')\n",
    "plt.legend(['sin','cos'],fontsize=12)\n",
    "plt.xticks([0,pi/6,pi/4,pi/3,pi/2], ['0','$\\pi/6$','$\\pi/4$','$\\pi/3$','$\\pi/2$'],fontsize=12)\n",
    "plt.yticks([0,1/2,1/np.sqrt(2),np.sqrt(3)/2,1], ['0','1/2','$1/\\sqrt{2}$','$\\sqrt{3}/2$','1'],fontsize=12)\n",
    "plt.grid('on');"
   ]
  },
  {
   "cell_type": "markdown",
   "metadata": {},
   "source": [
    "Let's now get some practice reading this graph and reporting its values. The next cell will generate 10 multiple choice questions. It will give you an angle and a trig function ask you for a letter from this list\n",
    "\n",
    "- a. 0\n",
    "- b. 1/2\n",
    "- c. 1/$\\sqrt 2$\n",
    "- d. $\\sqrt{3}/2$\n",
    "- e. 1"
   ]
  },
  {
   "cell_type": "code",
   "execution_count": 17,
   "metadata": {},
   "outputs": [
    {
     "name": "stdout",
     "output_type": "stream",
     "text": [
      "What is cos(0) ? e\n",
      "       well done\n",
      " \n",
      "What is cos(pi/4) ? c\n",
      "       well done\n",
      " \n",
      "What is cos(pi/6) ? d\n",
      "       well done\n",
      " \n",
      "What is cos(pi/3) ? b\n",
      "       well done\n",
      " \n",
      "What is sin(pi/4) ? c\n",
      "       well done\n",
      " \n",
      "What is sin(pi/4) ? c\n",
      "       well done\n",
      " \n",
      "What is sin(0) ? a\n",
      "       well done\n",
      " \n",
      "What is sin(pi/2) ? e\n",
      "       well done\n",
      " \n",
      "What is cos(pi/3) ? b\n",
      "       well done\n",
      " \n",
      "What is sin(pi/4) ? c\n",
      "       well done\n",
      " \n",
      "Your Score is 10 out of 10\n",
      "You finished in 65 seconds\n"
     ]
    }
   ],
   "source": [
    "# pose   random  c = sqrt((x1-x2)^2+(y1-y2)^2)  questions\n",
    "# Press the Run button and work until you can get 10 right in less than a minute\n",
    "\n",
    "import numpy as np\n",
    "import time\n",
    "\n",
    "start_time = time.time()\n",
    "replies = 0\n",
    "score = 0\n",
    "ang = ['(0)', '(pi/6)', '(pi/4)', '(pi/3)', '(pi/2)']\n",
    "sans = ['a', 'b', 'c', 'd', 'e']\n",
    "cans = ['e', 'd', 'c', 'b', 'a']\n",
    "func = ['sin', 'cos']\n",
    "\n",
    "while (replies < 10):\n",
    "    \n",
    "    i = np.random.randint(5)\n",
    "    j = np.random.randint(2) \n",
    "    \n",
    "    try:\n",
    "       ans = input('What is ' + func[j] + ang[i] + ' ? ')\n",
    "       ver = sans[i]\n",
    "       if (j==1): ver = cans[i]\n",
    "       if ( ans == ver ):\n",
    "           print('       well done')\n",
    "           score = score + 1\n",
    "       else:\n",
    "           print('       not this time')\n",
    "       print(' ')\n",
    "       replies = replies + 1\n",
    "    except:\n",
    "        print('oops: I need a letter')\n",
    "        print(' ')\n",
    "\n",
    "print('Your Score is ' + str(score) + ' out of 10')\n",
    "print('You finished in ' + str(round(time.time()-start_time)) + ' seconds')"
   ]
  },
  {
   "cell_type": "markdown",
   "metadata": {},
   "source": [
    "## Homework 5. Due Midnight, Monday September 20.\n",
    "\n",
    "Work the two exercises and the three practice cells."
   ]
  }
 ],
 "metadata": {
  "kernelspec": {
   "display_name": "Python 3",
   "language": "python",
   "name": "python3"
  },
  "language_info": {
   "codemirror_mode": {
    "name": "ipython",
    "version": 3
   },
   "file_extension": ".py",
   "mimetype": "text/x-python",
   "name": "python",
   "nbconvert_exporter": "python",
   "pygments_lexer": "ipython3",
   "version": "3.8.3"
  },
  "latex_envs": {
   "LaTeX_envs_menu_present": true,
   "autoclose": false,
   "autocomplete": false,
   "bibliofile": "",
   "cite_by": "apalike",
   "current_citInitial": 1,
   "eqLabelWithNumbers": true,
   "eqNumInitial": 1,
   "hotkeys": {
    "equation": "Ctrl-E",
    "itemize": "Ctrl-I"
   },
   "labels_anchors": false,
   "latex_user_defs": false,
   "report_style_numbering": true,
   "user_envs_cfg": true
  },
  "toc": {
   "base_numbering": 1,
   "nav_menu": {},
   "number_sections": true,
   "sideBar": true,
   "skip_h1_title": false,
   "title_cell": "Table of Contents",
   "title_sidebar": "Contents",
   "toc_cell": false,
   "toc_position": {},
   "toc_section_display": true,
   "toc_window_display": false
  }
 },
 "nbformat": 4,
 "nbformat_minor": 4
}
