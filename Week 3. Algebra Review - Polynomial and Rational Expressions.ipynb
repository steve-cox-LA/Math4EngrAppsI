{
 "cells": [
  {
   "cell_type": "markdown",
   "metadata": {},
   "source": [
    "We solve a few 1.4 Section Exercises on page 48 of A&T\n",
    "\n",
    "$$\n",
    "  \\hbox{E17:  } (4x+2)(6x-4) = 24x^2 - 16x + 12x - 8 = 24x^2 -4x - 8\n",
    "$$\n",
    "\n",
    "$$\n",
    "  \\hbox{E21:  } (9v-11)(11v-9) = 99v^2 - 81v - 121v + 99 = 99v^2 - 202v + 99\n",
    "$$\n",
    "\n",
    "$$\n",
    "  \\hbox{E25:  } (3y-7)^2 = (3y-7)(3y-7) = 9y^2 - 21y - 21y + 49 = 9y^2 - 42y + 49\n",
    "$$\n",
    "\n",
    "$$\n",
    "  \\hbox{E27:  } (4p+9)^2 = 16p^2 + 2(4)(9)y + 81 = 16p^2 + 72y + 81\n",
    "$$\n",
    "\n",
    "$$\n",
    "  \\hbox{E31:  } (4c+1)(4c-1) = 16c^2 - 4c + 4c - 1 = 16c^2 - 1\n",
    "$$\n",
    "\n",
    "$$\n",
    "  \\hbox{E39:  } (4t^2 + t - 7)(4t^2 - 1) = 16t^4 - 4t^2 + 4t^3 - t - 28t^2 + 7 = 16t^4 +4t^3 - 32t^2 - t + 7\n",
    "$$\n",
    "\n"
   ]
  },
  {
   "cell_type": "markdown",
   "metadata": {},
   "source": [
    "In this Markdown cell please solve the even exercises 18-52."
   ]
  },
  {
   "cell_type": "markdown",
   "metadata": {},
   "source": [
    "We next solve a few from 1.5 Section Exercises\n",
    "\n",
    "$$\n",
    "  \\hbox{E5:  } 49mb^2 - 35m^2ba + 77ma^2 = 7m(7b^2 - 5mba + 11a^2)\\\\\n",
    "    \\hbox{so 7m is the greatest common factor}\n",
    "$$\n",
    "\n",
    "$$\n",
    "  \\hbox{E11:  } 2a^2 + 9a - 18\n",
    "$$\n",
    "\n",
    "requires two factors of -36 that sum to 9.\n",
    "\n",
    "<table>\n",
    "  <tr>\n",
    "    <td>Factors of -36</td>\n",
    "    <td>Sum of Factors</td>\n",
    "  </tr>\n",
    "  <tr>\n",
    "    <td>1, -36</td>\n",
    "    <td>-35</td>\n",
    "  </tr>\n",
    "  <tr>\n",
    "    <td>-1, 36</td>\n",
    "    <td>35</td>\n",
    "  </tr>\n",
    "    <tr>\n",
    "    <td>6, -6</td>\n",
    "    <td>0</td>\n",
    "  </tr>\n",
    "    <tr>\n",
    "    <td>-12, 3</td>\n",
    "    <td>-9</td>\n",
    "  </tr>\n",
    "    <tr>\n",
    "    <td>12, -3</td>\n",
    "    <td>9</td>\n",
    "  </tr>\n",
    "</table>\n",
    "\n",
    "That last pair is the one we are looking for, so we write\n",
    "\n",
    "$$\n",
    "  2a^2 + 9a - 18 = 2a^2 + 12a - 3a - 18 = 2a(a+6) - 3(a+6) = (2a-3)(a+6)\n",
    "$$\n",
    "\n",
    "$$\n",
    "  \\hbox{E13:  } 6n^2 - 19n - 11 \n",
    "$$\n",
    "\n",
    "requires two factors of -66 that sum to -19. Do you see that these must be -22 and 3 and so\n",
    "\n",
    "$$\n",
    "  6n^2 - 19n - 11 = 6n^2 + 3n - 22n - 11 = 3n(2n+1) - 11(2n+1) = (3n-11)(2n+1) \n",
    "$$\n",
    "\n",
    "\n",
    "$$\n",
    "  \\hbox{E17:  } 10h^2 - 9h - 9 = (5h + 3)(2h - 3)\n",
    "$$\n",
    "\n",
    "requires two factors of -90 that sum to -9. Do you see that these must be -15 and 6 and so\n",
    "\n",
    "$$\n",
    "  10h^2 - 9h - 9 = 10h^2 - 15h + 6h - 9 = 5h(2h-3) + 3(2h-3) = (5h+3)(2h-3)\n",
    "$$\n",
    "\n",
    "\n",
    "$$\n",
    "  \\hbox{E21:  } 12t^2 + t - 13 \n",
    "$$\n",
    "\n",
    "requires two factors of -157 and sum to 1. Do you see that these must be 13 and -12 and so\n",
    "\n",
    "$$\n",
    "  12t^2 + t - 13  = 12t^2 - 12t + 13t - 13 = 12t(t-1) + 13(t-1) = (12t+13)(t-1)\n",
    "$$"
   ]
  },
  {
   "cell_type": "markdown",
   "metadata": {},
   "source": [
    "In this Markdown cell please solve the even exercises 4-36"
   ]
  },
  {
   "cell_type": "markdown",
   "metadata": {},
   "source": [
    "Lets now work a few from 1.6 Section Exercises, on page 64\n",
    "\n",
    "$$\n",
    "  \\hbox{E5:  } \\frac{y^2+10y+25}{y^2+11y+30} \n",
    "    = \\frac{(y+5)^2}{(y+5)(y+6)} = \\frac{y+5}{y+6}\n",
    "$$\n",
    "\n",
    "$$\n",
    "  \\hbox{E9:  } \\frac{2x^2+7x-4}{4x^2+2x-2} \n",
    "    = \\frac{(2x-1)(x+4)}{(2x-1)(2x+2)} = \\frac{x+4}{2x+2}\n",
    "$$\n",
    "\n",
    "$$\n",
    "  \\hbox{E13:  } \\frac{12n^2 - 29n - 8}{28n^2 - 5n - 3}\n",
    "  = \\frac{12n^2 + 3n - 32n - 8}{28n^2 - 12n + 7n - 3}\n",
    "  = \\frac{3n(4n+1) - 8(4n+1)}{7n(4n+1) - 3(4n+1)}\n",
    "  = \\frac{3n-8}{7n-3}\n",
    "$$\n",
    "\n",
    "$$\n",
    "  \\hbox{E15:  } \\frac{(c^2+2c-24)(c^2-10c+24)}{(c^2+12c+36)(c^2-8c+16)}\n",
    "   = \\frac{(c+6)(c-4)(c-6)(c-4)}{(c+6)^2(c-4)^2}\n",
    "   = \\frac{c-6}{c+6}\n",
    "$$\n",
    "\n",
    "$$\n",
    "  \\hbox{E21:  } \\frac{(t^2-1)(t^2+2t-15)}{(t^2+4t+3)(t^2-4t+3)}\n",
    "    = \\frac{(t+1)(t-1)(t+5)(t-3)}{(t+1)(t+3)(t-1)(t-3)}\n",
    "    = \\frac{t+5}{t+3}\n",
    "$$\n",
    "\n",
    "$$\n",
    "  \\hbox{E25:  } \\frac{(6p^2+p-12)(2p^2+11p-6)}{(8p^2+18p+9)(6p^2-11p+4)}\n",
    "  = \\frac{(6p^2 + 9p - 8p - 12)(2p^2 + 12p - p - 6)}\n",
    "         {(8p^2 + 12p + 6p + 9)(6p^2 - 3p - 8p + 4)}\n",
    "  = \\frac{(3p(2p+3) - 4(2p+3))(2p(p+6) - (p+6))}\n",
    "         {(4p(2p+3) + 3(2p+3))(3p(2p-1) - 4(2p-1))}\n",
    "  = \\frac{(3p-4)(2p+3)(2p-1)(p+6)}{(4p+3)(2p+3)(3p-4)(2p-1)}\n",
    "  = \\frac{p+6}{4p+3}\n",
    "$$\n",
    "\n",
    "There is plenty of room for typos and algebraic errors in this latter calculation. Let's graph the first and last expressions over a range of $p$ values to see if they indeed overlap."
   ]
  },
  {
   "cell_type": "code",
   "execution_count": 13,
   "metadata": {},
   "outputs": [
    {
     "data": {
      "image/png": "[encoded data removed]",
      "text/plain": [
       "<Figure size 432x288 with 1 Axes>"
      ]
     },
     "metadata": {
      "needs_background": "light"
     },
     "output_type": "display_data"
    }
   ],
   "source": [
    "import numpy as np\n",
    "import matplotlib.pyplot as plt\n",
    "\n",
    "p = np.linspace(0,1,100)\n",
    "y = (6*p**2+p-12)*(2*p**2+11*p-6)/((8*p**2+18*p+9)*(6*p**2-11*p+4))\n",
    "plt.plot(p,y,'k',linewidth=3)   # fat solid black\n",
    "\n",
    "y = (p+6)/(4*p+3)\n",
    "plt.plot(p,y,'r--',linewidth=3)   # fat dashed red\n",
    "\n",
    "plt.legend(['initial','simplified'])\n",
    "plt.grid('on')\n",
    "plt.xlabel('p', fontsize=14)\n",
    "plt.ylabel('y', fontsize=14)\n",
    "plt.title('Algebra Check on Exercise 1.6.25', fontsize=16);"
   ]
  },
  {
   "cell_type": "markdown",
   "metadata": {},
   "source": [
    "In this Markdown cell please solve the even exercises 4-32, and for the last problem confirm your answer in a code (like that above)"
   ]
  },
  {
   "cell_type": "code",
   "execution_count": null,
   "metadata": {
    "collapsed": true
   },
   "outputs": [],
   "source": [
    "# your code her"
   ]
  },
  {
   "cell_type": "markdown",
   "metadata": {},
   "source": [
    "Let's next work on adding and subtracting rational expressions\n",
    "\n",
    "$$\n",
    "  \\hbox{E33:  }\\frac{4}{x}+\\frac{10}{y} = \\frac{4y}{xy}+\\frac{10x}{xy} = \\frac{4y+10x}{xy}\n",
    "$$\n",
    "\n",
    "$$\n",
    "  \\hbox{E35:  }\\frac{4}{a+1} + \\frac{5}{a-3} \n",
    "   = \\frac{4a - 12}{(a+1)(a-3)} + \\frac{5a+5}{(a-3)(a+1)}\n",
    "   = \\frac{9a - 7}{(a-3)(a+1)}\n",
    "$$\n",
    "\n",
    "$$\n",
    "  \\hbox{E41:  } \\frac{x}{x+1} + \\frac{y}{y+1}\n",
    "   = \\frac{x(y+1)}{(x+1)(y+1)} + \\frac{y(x+1)}{(x+1)(y+1)}\n",
    "   = \\frac{x + y + 2xy}{x+y+xy+1}\n",
    "$$\n"
   ]
  },
  {
   "cell_type": "markdown",
   "metadata": {},
   "source": [
    "In the Markdown cell below please solve the even exercises 34-40"
   ]
  },
  {
   "cell_type": "markdown",
   "metadata": {},
   "source": []
  }
 ],
 "metadata": {
  "kernelspec": {
   "display_name": "Python 3",
   "language": "python",
   "name": "python3"
  },
  "language_info": {
   "codemirror_mode": {
    "name": "ipython",
    "version": 3
   },
   "file_extension": ".py",
   "mimetype": "text/x-python",
   "name": "python",
   "nbconvert_exporter": "python",
   "pygments_lexer": "ipython3",
   "version": "3.8.3"
  },
  "latex_envs": {
   "LaTeX_envs_menu_present": true,
   "autoclose": false,
   "autocomplete": false,
   "bibliofile": "",
   "cite_by": "apalike",
   "current_citInitial": 1,
   "eqLabelWithNumbers": true,
   "eqNumInitial": 1,
   "hotkeys": {
    "equation": "Ctrl-E",
    "itemize": "Ctrl-I"
   },
   "labels_anchors": false,
   "latex_user_defs": false,
   "report_style_numbering": true,
   "user_envs_cfg": true
  },
  "toc": {
   "base_numbering": 1,
   "nav_menu": {},
   "number_sections": true,
   "sideBar": true,
   "skip_h1_title": false,
   "title_cell": "Table of Contents",
   "title_sidebar": "Contents",
   "toc_cell": false,
   "toc_position": {},
   "toc_section_display": true,
   "toc_window_display": false
  }
 },
 "nbformat": 4,
 "nbformat_minor": 4
}
