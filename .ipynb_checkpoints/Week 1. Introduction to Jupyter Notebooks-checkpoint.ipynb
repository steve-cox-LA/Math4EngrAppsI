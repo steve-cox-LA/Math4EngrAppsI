{
 "cells": [
  {
   "cell_type": "markdown",
   "metadata": {},
   "source": [
    "# Introduction to Jupyter Notebooks\n",
    "\n",
    "In this notebook we begin to work through the material in Chapter 1 of our text. To \"work through\" we first need to learn how to\n",
    "\n",
    "create and manipulate algebraic expression, in **Markdown cells**, \n",
    "\n",
    "and evaluate and illustrate expressions, in **code cells**\n",
    "\n",
    "These are **the** two choices we will use from the dropdown menu above.\n",
    "\n",
    "To **edit** the contents of a cell you merely double click inside the cell.\n",
    "\n",
    "To **run** the cell you click once on the cell to select it, then click **run** in the menu above.\n",
    "\n",
    "If you double click on this cell you will see how to make selected text appear in a bold font.\n",
    "\n",
    "Please create, in the markdown cell below, a sentence that contains both regular text and bold text."
   ]
  },
  {
   "cell_type": "markdown",
   "metadata": {},
   "source": [
    "Your solution here."
   ]
  },
  {
   "cell_type": "markdown",
   "metadata": {},
   "source": [
    "One great feature of jupyter notebooks is their ability to help us express our algebra work in an ordered, logical, legible format. As this is the format now used across engineering and science it is especially important to become a fluent user.\n",
    "\n",
    "The first thing to learn is that all math symbols occur between **single dollar signs** when displayed \"inline\" with text and between **double dollar signs** when displayed \"on their own\"\n",
    "\n",
    "To appreciate these next examples its best to flip back and forth between edit and run in this cell.\n",
    "\n",
    "Here is an example of an inline expression:   $y=3x+5$\n",
    "\n",
    "and here is an example of a fully displayed example\n",
    "\n",
    "$$\n",
    "  y = 3x^2 - 6x + 1\n",
    "$$\n",
    "\n",
    "This last example has now shown you how to **powers** in Markdown.\n",
    "\n",
    "We are using the convention and that adjacent objects are to be **multiplied**. In order to divide we write, for example\n",
    "\n",
    "$$\n",
    "  y = 2 - 5/x\n",
    "$$\n",
    "\n",
    "That **slash** for division is convenient for fractions with simple numerators and denominators. To handle more complex expressions we need parentheses, as in\n",
    "\n",
    "$$\n",
    "  y = 2 - (5+x)/(x-4)\n",
    "$$\n",
    "\n",
    "But Markdown has a prettier way to express this using the **frac** function, as in\n",
    "\n",
    "$$\n",
    "  y = 2 - \\frac{5+x}{x-4}\n",
    "$$\n",
    "\n",
    "Please use frac to express $y = (5x^2-2)/(3x^3-x^2+6x+5)$ in the markdown cell below"
   ]
  },
  {
   "cell_type": "markdown",
   "metadata": {},
   "source": [
    "Your work here."
   ]
  },
  {
   "cell_type": "markdown",
   "metadata": {},
   "source": [
    "You now know the essentials of Markdown. Let us take a look at how to evaluate and plot these expressions in code cells."
   ]
  },
  {
   "cell_type": "code",
   "execution_count": 1,
   "metadata": {},
   "outputs": [
    {
     "name": "stdout",
     "output_type": "stream",
     "text": [
      "8\n"
     ]
    }
   ],
   "source": [
    "x = 1\n",
    "y = 3*x + 5\n",
    "print(y)"
   ]
  },
  {
   "cell_type": "markdown",
   "metadata": {},
   "source": [
    "You see that multiplication is done with an asterisk and that to see the value of a variable you must print it."
   ]
  },
  {
   "cell_type": "code",
   "execution_count": 2,
   "metadata": {},
   "outputs": [
    {
     "name": "stdout",
     "output_type": "stream",
     "text": [
      "-2\n"
     ]
    }
   ],
   "source": [
    "y = 3*x**2 - 6*x + 1\n",
    "print(y)"
   ]
  },
  {
   "cell_type": "markdown",
   "metadata": {},
   "source": [
    "You see that powers require the double asterisk (and that code cells remember values set in previous cells)"
   ]
  },
  {
   "cell_type": "code",
   "execution_count": 3,
   "metadata": {},
   "outputs": [
    {
     "name": "stdout",
     "output_type": "stream",
     "text": [
      "4.0\n"
     ]
    }
   ],
   "source": [
    "y = 2 - (5+x)/(x-4)\n",
    "print(y)"
   ]
  },
  {
   "cell_type": "markdown",
   "metadata": {},
   "source": [
    "In the single code cell below please evaluate and print the 3 previous expressions for $y$ when $x=-1$"
   ]
  },
  {
   "cell_type": "code",
   "execution_count": null,
   "metadata": {},
   "outputs": [],
   "source": [
    "# your code here"
   ]
  },
  {
   "cell_type": "code",
   "execution_count": null,
   "metadata": {},
   "outputs": [],
   "source": [
    "Let us now see how to plot these expressions over a wide range of x values."
   ]
  },
  {
   "cell_type": "code",
   "execution_count": 5,
   "metadata": {},
   "outputs": [
    {
     "data": {
      "image/png": "[encoded data removed]",
      "text/plain": [
       "<Figure size 432x288 with 1 Axes>"
      ]
     },
     "metadata": {
      "needs_background": "light"
     },
     "output_type": "display_data"
    }
   ],
   "source": [
    "import numpy as np    # numpy is a library of useful numerical routines\n",
    "import matplotlib.pyplot as plt  # matplotlib is a library of useful graphing routines\n",
    "\n",
    "x = np.linspace(-1,1,10)    # a list of ten x values between -1 and 1\n",
    "y = 3*x + 5                 # the associated y values\n",
    "\n",
    "plt.plot(x,y)\n",
    "plt.grid('on')\n",
    "plt.xlabel('x')\n",
    "plt.ylabel('y=3x+5')\n",
    "plt.title('My First Python Plot');"
   ]
  },
  {
   "cell_type": "markdown",
   "metadata": {},
   "source": [
    "In the code cell below plot $y = 3x^2 - 6x + 1$ for 100 values of $x$ between -2 and 2, and make sure you have the correct ylabel and new title"
   ]
  },
  {
   "cell_type": "code",
   "execution_count": null,
   "metadata": {},
   "outputs": [],
   "source": [
    "# your code here"
   ]
  },
  {
   "cell_type": "markdown",
   "metadata": {},
   "source": [
    "In the code cell below plot $2 - (5+x)/(x-4)$ for 100 values of $x$ between -3 and 3, and make sure you have the correct ylabel and new title"
   ]
  },
  {
   "cell_type": "code",
   "execution_count": null,
   "metadata": {},
   "outputs": [],
   "source": [
    "# your code here"
   ]
  },
  {
   "cell_type": "markdown",
   "metadata": {},
   "source": [
    "We often prefer to compare expressions by graphing them on the same axes, for example"
   ]
  },
  {
   "cell_type": "code",
   "execution_count": 10,
   "metadata": {},
   "outputs": [
    {
     "data": {
      "image/png": "[encoded data removed]",
      "text/plain": [
       "<Figure size 432x288 with 1 Axes>"
      ]
     },
     "metadata": {
      "needs_background": "light"
     },
     "output_type": "display_data"
    }
   ],
   "source": [
    "import numpy as np    # numpy is a library of useful numerical routines\n",
    "import matplotlib.pyplot as plt  # matplotlib is a library of useful graphing routines\n",
    "\n",
    "x = np.linspace(-1,1,10)    # a list of ten x values between -1 and 1\n",
    "\n",
    "y = 3*x + 5                 # the associated y values\n",
    "plt.plot(x,y)\n",
    "\n",
    "y = -2*x + 4\n",
    "plt.plot(x,y)\n",
    "\n",
    "plt.legend(['3x+5','-2x+4'])\n",
    "\n",
    "plt.grid('on')\n",
    "plt.xlabel('x')\n",
    "plt.ylabel('y')\n",
    "plt.title('My First Plot of Two Curves');"
   ]
  },
  {
   "cell_type": "markdown",
   "metadata": {},
   "source": [
    "You see that python chooses a new color for each plot, and that **legend** helps us build a legend that distinguishes which expression gets which color. In the code cell below please write code that plots, on one x-axis, all three of your previous expressions. Please be careful to construct the correct legend."
   ]
  },
  {
   "cell_type": "code",
   "execution_count": null,
   "metadata": {},
   "outputs": [],
   "source": [
    "# your code here"
   ]
  },
  {
   "cell_type": "markdown",
   "metadata": {},
   "source": [
    "In my example, we see that the lines $y=3x+5$ and $y=-2x+4$ intersect near $x=0.25$. Let us see ow to use algebra to get the exact value of the crossing point.\n",
    "\n",
    "They cross when then the $y$ values are equal, i.e., when\n",
    "\n",
    "$$\n",
    "  3x+5 = -2x + 4 \\\\    % double backslash means start a new line\n",
    "  \\hbox{now add 2x to each side} \\\\    % \\hbox means horizontal box of text\n",
    "  5x + 5 = 4 \\\\\n",
    "  \\hbox{now subtract 5 from each side} \\\\\n",
    "  5x = -1 \\\\\n",
    "  \\hbox{now divide each side by 5} \\\\\n",
    "  x = -1/5 \\\\\n",
    "  \\hbox{and finally evaluate the associated y} \\\\\n",
    "  y = -2(-1/5)+4 = 2/5 + 4 = 22/5 \n",
    "$$\n",
    "\n",
    "do you see the sequence of small steps, with English explanations before each step?\n",
    "\n",
    "Lets see if our calculations are correct"
   ]
  },
  {
   "cell_type": "code",
   "execution_count": 12,
   "metadata": {},
   "outputs": [
    {
     "data": {
      "image/png": "[encoded data removed]",
      "text/plain": [
       "<Figure size 432x288 with 1 Axes>"
      ]
     },
     "metadata": {
      "needs_background": "light"
     },
     "output_type": "display_data"
    }
   ],
   "source": [
    "import numpy as np    # numpy is a library of useful numerical routines\n",
    "import matplotlib.pyplot as plt  # matplotlib is a library of useful graphing routines\n",
    "\n",
    "x = np.linspace(-1,1,10)    # a list of ten x values between -1 and 1\n",
    "\n",
    "y = 3*x + 5                 # the associated y values\n",
    "plt.plot(x,y)\n",
    "\n",
    "y = -2*x + 4\n",
    "plt.plot(x,y)\n",
    "\n",
    "plt.legend(['3x+5','-2x+4'])\n",
    "\n",
    "plt.plot(-1/5,22/5,'ro')    # place a red disk at the calculated intersection\n",
    "\n",
    "plt.grid('on')\n",
    "plt.xlabel('x')\n",
    "plt.ylabel('y')\n",
    "plt.title('Meet at the Intersection');"
   ]
  },
  {
   "cell_type": "markdown",
   "metadata": {},
   "source": [
    "In the markdown cell below please include your detailed solution (following my example) of the intersection point of $y=2x+3$ and $y=-3x+4$"
   ]
  },
  {
   "cell_type": "raw",
   "metadata": {},
   "source": [
    "your work here"
   ]
  },
  {
   "cell_type": "markdown",
   "metadata": {},
   "source": [
    "In the code cell below please confirm that your two lines indeed cross at your calculated intersection point"
   ]
  },
  {
   "cell_type": "code",
   "execution_count": null,
   "metadata": {},
   "outputs": [],
   "source": [
    "# your code here"
   ]
  },
  {
   "cell_type": "code",
   "execution_count": 1,
   "metadata": {},
   "outputs": [
    {
     "name": "stderr",
     "output_type": "stream",
     "text": [
      "UsageError: Line magic function `%watermark` not found.\n"
     ]
    }
   ],
   "source": [
    "%watermark --iversions"
   ]
  },
  {
   "cell_type": "code",
   "execution_count": null,
   "metadata": {},
   "outputs": [],
   "source": []
  }
 ],
 "metadata": {
  "kernelspec": {
   "display_name": "Python 3",
   "language": "python",
   "name": "python3"
  },
  "language_info": {
   "codemirror_mode": {
    "name": "ipython",
    "version": 3
   },
   "file_extension": ".py",
   "mimetype": "text/x-python",
   "name": "python",
   "nbconvert_exporter": "python",
   "pygments_lexer": "ipython3",
   "version": "3.8.3"
  },
  "latex_envs": {
   "LaTeX_envs_menu_present": true,
   "autoclose": false,
   "autocomplete": false,
   "bibliofile": "",
   "cite_by": "apalike",
   "current_citInitial": 1,
   "eqLabelWithNumbers": true,
   "eqNumInitial": 1,
   "hotkeys": {
    "equation": "Ctrl-E",
    "itemize": "Ctrl-I"
   },
   "labels_anchors": false,
   "latex_user_defs": false,
   "report_style_numbering": true,
   "user_envs_cfg": true
  },
  "toc": {
   "base_numbering": 1,
   "nav_menu": {},
   "number_sections": true,
   "sideBar": true,
   "skip_h1_title": false,
   "title_cell": "Table of Contents",
   "title_sidebar": "Contents",
   "toc_cell": false,
   "toc_position": {},
   "toc_section_display": true,
   "toc_window_display": false
  }
 },
 "nbformat": 4,
 "nbformat_minor": 4
}
