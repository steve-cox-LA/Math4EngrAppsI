{
 "cells": [
  {
   "cell_type": "markdown",
   "metadata": {},
   "source": [
    "Let's work the exercises in section 1.1 of your A&T text (page 15)"
   ]
  },
  {
   "cell_type": "code",
   "execution_count": 11,
   "metadata": {},
   "outputs": [
    {
     "name": "stdout",
     "output_type": "stream",
     "text": [
      "E5: -6.0\n",
      "E7: -2.0\n",
      "E9: -2.0\n",
      "E11: 9.0\n"
     ]
    }
   ],
   "source": [
    "print('E5:', 6/2 - (81/3**2))\n",
    "\n",
    "print('E7:', -2*(16/(8-4)**2)**2)\n",
    "\n",
    "print('E9:', -2*(16/(8-4)**2)**2)\n",
    "\n",
    "print('E11:', 12/(36/9) + 6)\n"
   ]
  },
  {
   "cell_type": "markdown",
   "metadata": {},
   "source": [
    "In the code cell below please present your solutions to the even numbered exercises from 4 to 26 "
   ]
  },
  {
   "cell_type": "code",
   "execution_count": null,
   "metadata": {},
   "outputs": [],
   "source": []
  },
  {
   "cell_type": "markdown",
   "metadata": {},
   "source": [
    "E29\n",
    "\n",
    "$$\n",
    "   4y + 8 = 2y \\\\\n",
    "   \\hbox{subtract 2y from each side} \\\\\n",
    "   2y + 8 = 0 \\\\\n",
    "   \\hbox{subtract 8 from each side} \\\\\n",
    "   2y = -8 \\\\\n",
    "   \\hbox{divide each side by 2} \\\\\n",
    "   y = -8/2 = -4.\n",
    "$$\n",
    "\n",
    "E31\n",
    "\n",
    "$$\n",
    "  4z-2z(1+4) = 36 \\\\\n",
    "  \\hbox{evaluate 1+4 and multiply by 2z}\\\\\n",
    "  4z-10z = 36 \\\\\n",
    "  \\hbox{combine z terms} \\\\\n",
    "  -6z = 36 \\\\\n",
    "  \\hbox{divide each side by -6} \\\\\n",
    "  z = 36/(-6) = -6\n",
    "$$\n",
    "\n",
    "E33\n",
    "\n",
    "$$\n",
    "  -(2x)^2+1 = -3 \\\\\n",
    "  \\hbox{evaluate power}\\\\\n",
    "  -4x^2 + 1 = -3 \\\\\n",
    "  \\hbox{subtract 1 from each side} \\\\\n",
    "  -4x^2 = -4 \\\\\n",
    "  \\hbox{divide each side by -4} \\\\\n",
    "  x^2 = 1 \\\\\n",
    "  \\hbox{take the square root} \\\\\n",
    "  x = \\pm 1\n",
    "$$"
   ]
  },
  {
   "cell_type": "markdown",
   "metadata": {},
   "source": [
    "In the markdown cell below solve the even exercises 28-36 (just double-click to start)"
   ]
  },
  {
   "cell_type": "markdown",
   "metadata": {},
   "source": []
  },
  {
   "cell_type": "markdown",
   "metadata": {},
   "source": [
    "E39\n",
    "\n",
    "$$\n",
    "  2y-(4)^2y - 11 = 2y-16y - 11 = -14y - 11\n",
    "$$\n",
    "\n",
    "E41\n",
    "\n",
    "$$\n",
    "  8b - 4b(3) + 1 = 8b -12b + 1 = -4b + 1\n",
    "$$\n",
    "\n",
    "E43\n",
    "\n",
    "$$\n",
    "  7z - 3 + z6^2 = 7z - 3 + 36z = 43z - 3\n",
    "$$"
   ]
  },
  {
   "cell_type": "markdown",
   "metadata": {},
   "source": [
    "In the Markdown cell below solve the even exercises 38-52"
   ]
  },
  {
   "cell_type": "markdown",
   "metadata": {},
   "source": []
  },
  {
   "cell_type": "code",
   "execution_count": null,
   "metadata": {},
   "outputs": [],
   "source": [
    "Moving on the 1.2 Section Exercises on page 29"
   ]
  },
  {
   "cell_type": "markdown",
   "metadata": {},
   "source": [
    "E25\n",
    "\n",
    "$$\n",
    "  \\frac{a^3a^2}{a} = \\frac{a^5}{a} = a^4\n",
    "$$\n",
    "\n",
    "E27\n",
    "\n",
    "$$\n",
    "  (b^3c^4)^2 = b^6c^8\n",
    "$$\n",
    " \n",
    "E29\n",
    "\n",
    "$$\n",
    "  \\frac{ab^2}{d^{-3}} = ab^2d^3\n",
    "$$\n",
    "\n",
    "E31\n",
    "\n",
    "$$\n",
    "  \\frac{m^4}{n^0} = m^4\n",
    "$$\n",
    "\n",
    "E33\n",
    "\n",
    "$$\n",
    "  \\frac{p^{-4}q^2}{p^2q^{-3}} = \\frac{q^5}{p^6}\n",
    "$$"
   ]
  },
  {
   "cell_type": "markdown",
   "metadata": {},
   "source": [
    "In the Markdown cell below please solve the even exercises 26-42"
   ]
  },
  {
   "cell_type": "markdown",
   "metadata": {},
   "source": []
  },
  {
   "cell_type": "markdown",
   "metadata": {},
   "source": [
    "We next pursue the 1.3 Section Exercises (page 39)\n",
    "\n",
    "$$\n",
    "  \\hbox{E5: }\\sqrt{256}=\\sqrt{16^2} = 16\n",
    "$$\n",
    "\n",
    "$$\n",
    "  \\hbox{E7: }\\sqrt{4(9+16)}=\\sqrt{4(25)} = \\sqrt{4}\\sqrt{25} = 2(5) = 10\n",
    "$$\n",
    "\n",
    "$$\n",
    "  \\hbox{E9: }\\sqrt{196}=\\sqrt{4(49)} = \\sqrt{4}\\sqrt{49} = 2(7) = 14\n",
    "$$\n",
    "\n",
    "$$\n",
    "  \\hbox{E11: }\\sqrt{98}=\\sqrt{2(49)} = \\sqrt{2}\\sqrt{49} = 7\\sqrt{2}\n",
    "$$\n",
    "\n",
    "$$\n",
    "  \\hbox{E13: }\\sqrt{81/5} = \\sqrt{81}/\\sqrt{5} = 9/\\sqrt{5}\n",
    "$$\n",
    "\n",
    "$$\n",
    "  \\hbox{E15: }\\sqrt{169} + \\sqrt{144} = 13 + 12 = 25\n",
    "$$\n",
    "\n",
    "$$\n",
    "  \\hbox{E29: }\\frac{8}{1-\\sqrt{17}}  \n",
    "    = \\frac{8}{1-\\sqrt{17}}\\frac{1+\\sqrt{17}}{1+\\sqrt{17}} \n",
    "    = \\frac{8(1+\\sqrt{17})}{-16}\n",
    "    = \\frac{-(1+\\sqrt{17})}{2}\n",
    "$$\n"
   ]
  },
  {
   "cell_type": "markdown",
   "metadata": {},
   "source": [
    "In the Markdown cell below please solve the even exercises 6-34."
   ]
  },
  {
   "cell_type": "markdown",
   "metadata": {},
   "source": []
  },
  {
   "cell_type": "markdown",
   "metadata": {},
   "source": [
    "$$\n",
    "  \\hbox{E35:  } \\sqrt{400x^4} = \\sqrt{400}\\sqrt{x^4} = 20x^2\n",
    "$$\n",
    "\n",
    "$$\n",
    "  \\hbox{E37:  } \\sqrt{49p} = \\sqrt{49}\\sqrt{p} = 7\\sqrt{p}\n",
    "$$\n",
    "\n",
    "$$\n",
    "  \\hbox{E39:  } m^{5/2}\\sqrt{289} = 17m^{5/2}\n",
    "$$\n",
    "\n",
    "$$\n",
    "  \\hbox{E41:  } 3\\sqrt{ab^2} -b \\sqrt{a} = 3b\\sqrt{a} - b\\sqrt{a} = 2b\\sqrt{a}\n",
    "$$\n",
    "\n"
   ]
  },
  {
   "cell_type": "markdown",
   "metadata": {},
   "source": [
    "In the Markdown cell below please solve the even exercises 36-64."
   ]
  },
  {
   "cell_type": "markdown",
   "metadata": {},
   "source": []
  }
 ],
 "metadata": {
  "kernelspec": {
   "display_name": "Python 3",
   "language": "python",
   "name": "python3"
  },
  "language_info": {
   "codemirror_mode": {
    "name": "ipython",
    "version": 3
   },
   "file_extension": ".py",
   "mimetype": "text/x-python",
   "name": "python",
   "nbconvert_exporter": "python",
   "pygments_lexer": "ipython3",
   "version": "3.8.3"
  },
  "latex_envs": {
   "LaTeX_envs_menu_present": true,
   "autoclose": false,
   "autocomplete": false,
   "bibliofile": "",
   "cite_by": "apalike",
   "current_citInitial": 1,
   "eqLabelWithNumbers": true,
   "eqNumInitial": 1,
   "hotkeys": {
    "equation": "Ctrl-E",
    "itemize": "Ctrl-I"
   },
   "labels_anchors": false,
   "latex_user_defs": false,
   "report_style_numbering": true,
   "user_envs_cfg": true
  },
  "toc": {
   "base_numbering": 1,
   "nav_menu": {},
   "number_sections": true,
   "sideBar": true,
   "skip_h1_title": false,
   "title_cell": "Table of Contents",
   "title_sidebar": "Contents",
   "toc_cell": false,
   "toc_position": {},
   "toc_section_display": true,
   "toc_window_display": false
  }
 },
 "nbformat": 4,
 "nbformat_minor": 4
}
