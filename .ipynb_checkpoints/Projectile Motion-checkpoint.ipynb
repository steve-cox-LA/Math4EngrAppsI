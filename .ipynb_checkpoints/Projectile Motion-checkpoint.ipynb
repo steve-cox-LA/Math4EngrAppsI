{
 "cells": [
  {
   "cell_type": "markdown",
   "metadata": {},
   "source": [
    "# Projectile Motion\n",
    "\n",
    "Armed with this knowledge of trigonomtry we may now pose and solve problems of **two-dimensional motion.**\n",
    "\n",
    "For this week we will study the motion of a projectile, such as a ball shot from a cannon, or an aid-package dropped from\n",
    "an airplane.\n",
    "\n",
    "In either case we will denote the **position** at time $t$ by\n",
    "\n",
    "$$(x(t), y(t))$$ \n",
    "\n",
    "and the **velocity** at time $t$ by\n",
    "\n",
    "$$(v_x(t),v_y(t))$$\n",
    "\n",
    "Just as in one-dimension, these future values depend on the initial values\n",
    "\n",
    "$$\n",
    "  x(0) = x_0 \\\\\n",
    "  y(0) = y_0  \\\\\n",
    "  v_x(0) = v_{x0} \\\\\n",
    "  v_y(0) = v_{y0} \n",
    "$$\n",
    "\n",
    "and on gravity, $g$. In particular, the **equations of motion** are\n",
    "\n",
    "$$\n",
    "  \\boxed{ x(t) = x_0 + v_{x0}t \\\\\n",
    "  y(t) = y_0 + v_{y0}t - (g/2)t^2 }\n",
    "$$\n",
    "\n",
    "Let's code up a simple cannon, at the origin, and pointed 45 degrees east, with sufficient gun powder to leave the cannon at $10\\sqrt 2$ meters per second.\n",
    "\n",
    "Just as before, in order to know the correct time interval for simulation I must know how long it will take to hit the ground. As before this requires that we solve $y(t_{hit})=0$ for\n",
    "\n",
    "$$\n",
    " t_{hit} = \\frac{v_{y0} + \\sqrt{v_{y0}^2+2gy_0}}{g}\n",
    "$$"
   ]
  },
  {
   "cell_type": "code",
   "execution_count": 11,
   "metadata": {},
   "outputs": [
    {
     "data": {
      "image/png": "[encoded data removed]",
      "text/plain": [
       "<Figure size 432x288 with 1 Axes>"
      ]
     },
     "metadata": {
      "needs_background": "light"
     },
     "output_type": "display_data"
    }
   ],
   "source": [
    "import numpy as np\n",
    "import matplotlib.pyplot as plt\n",
    "\n",
    "x0 = 0   # m\n",
    "y0 = 0   # m\n",
    "vx0 = 10  # m/s\n",
    "vy0 = 10  # m/s\n",
    "g = 9.81 # m/s^2\n",
    "\n",
    "thit = (vy0 + np.sqrt(vy0**2+2*g*y0))/g\n",
    "\n",
    "t = np.linspace(0,thit,20)\n",
    "\n",
    "x = x0 + vx0*t\n",
    "y = y0 + vy0*t - (g/2)*t**2\n",
    "\n",
    "plt.plot(x, y, 'o-')\n",
    "plt.xlabel('x (m)', fontsize=12)\n",
    "plt.ylabel('y (m)', fontsize=12)\n",
    "plt.axis('equal')\n",
    "plt.title('Cannon-Ball Trajectory')\n",
    "plt.grid('on');"
   ]
  },
  {
   "cell_type": "markdown",
   "metadata": {},
   "source": [
    "Does this look right to you? Do you see the motion? We will animate this soon, but not before making many more experiments and better understanding these initial conditions - and returning to our old questions \n",
    "\n",
    "- how fast was it moving when it hit the ground?\n",
    "- how high did it get?\n",
    "- how long did it take to get to it's highest point?\n",
    "\n",
    "First off, we used geometric language to say that our initial velocity, $(10,10)$, was at 45 degrees and of **size** $10\\sqrt 2$ m/s. Can you reconcile these statements with the figure below?"
   ]
  },
  {
   "cell_type": "code",
   "execution_count": null,
   "metadata": {},
   "outputs": [],
   "source": []
  }
 ],
 "metadata": {
  "kernelspec": {
   "display_name": "Python 3",
   "language": "python",
   "name": "python3"
  },
  "language_info": {
   "codemirror_mode": {
    "name": "ipython",
    "version": 3
   },
   "file_extension": ".py",
   "mimetype": "text/x-python",
   "name": "python",
   "nbconvert_exporter": "python",
   "pygments_lexer": "ipython3",
   "version": "3.8.3"
  },
  "latex_envs": {
   "LaTeX_envs_menu_present": true,
   "autoclose": false,
   "autocomplete": false,
   "bibliofile": "",
   "cite_by": "apalike",
   "current_citInitial": 1,
   "eqLabelWithNumbers": true,
   "eqNumInitial": 1,
   "hotkeys": {
    "equation": "Ctrl-E",
    "itemize": "Ctrl-I"
   },
   "labels_anchors": false,
   "latex_user_defs": false,
   "report_style_numbering": true,
   "user_envs_cfg": true
  },
  "toc": {
   "base_numbering": 1,
   "nav_menu": {},
   "number_sections": true,
   "sideBar": true,
   "skip_h1_title": false,
   "title_cell": "Table of Contents",
   "title_sidebar": "Contents",
   "toc_cell": false,
   "toc_position": {},
   "toc_section_display": true,
   "toc_window_display": false
  }
 },
 "nbformat": 4,
 "nbformat_minor": 4
}
