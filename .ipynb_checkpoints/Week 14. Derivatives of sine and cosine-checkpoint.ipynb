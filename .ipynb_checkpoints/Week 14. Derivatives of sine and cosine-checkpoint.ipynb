{
 "cells": [
  {
   "cell_type": "markdown",
   "metadata": {},
   "source": [
    "# 4. Derivatives\n",
    "\n",
    "Having found that the slope of $\\sin$ at $0$ is $1$, let us now turn to finding its slope at some other place, $x$. That is we wish to find\n",
    "\n",
    "$$\n",
    "  \\sin'(x) = \\lim_{h\\to 0}\\frac{\\sin(x+h)-\\sin(x)}{h},\n",
    "$$\n",
    "\n",
    "where the \"prime\" symbol denotes **derivative**.\n",
    "Let us explore this function in python. We choose $h=0.01$ and plot the slope\n",
    "\n",
    "$$\n",
    "   \\frac{\\sin(x+h)-\\sin(x)}{h}\n",
    "$$\n",
    "\n",
    "as red dots, and compare it with $\\cos(x)$ in black."
   ]
  },
  {
   "cell_type": "code",
   "execution_count": 7,
   "metadata": {},
   "outputs": [
    {
     "data": {
      "image/png": "[encoded data removed]",
      "text/plain": [
       "<Figure size 432x288 with 1 Axes>"
      ]
     },
     "metadata": {
      "needs_background": "light"
     },
     "output_type": "display_data"
    }
   ],
   "source": [
    "# compare cosine to the derivative of sine\n",
    "import numpy as np\n",
    "import matplotlib.pyplot as plt\n",
    "\n",
    "X = np.linspace(-np.pi, np.pi, 40)  \n",
    "plt.plot(X, np.cos(X),'k')\n",
    "\n",
    "h = 0.001\n",
    "for x in X:\n",
    "    y = (np.sin(x+h) - np.sin(x)) / h\n",
    "    plt.plot(x, y, 'ro')\n",
    "\n",
    "plt.grid('on')\n",
    "plt.legend(['$y=\\cos(x)$','$y=(\\sin(x+h)-\\sin(x))/h$'])\n",
    "plt.xlabel('x')\n",
    "plt.ylabel('y');"
   ]
  },
  {
   "cell_type": "markdown",
   "metadata": {},
   "source": [
    "This is an amazing fit - it does *appear* that $\\cos(x)$ is indeed the derivative of $\\sin(x)$. Engineering however can not rely solely on appearances. Can we prove it?\n",
    "\n",
    "We begin by invoking our previous lesson that $\\sin(x+h)=\\sin(x)\\cos(h)+\\sin(h)\\cos(x)$ to achieve\n",
    "\n",
    "$$\n",
    " \\sin'(x) = \\lim_{h\\to 0}\\frac{\\sin(x)\\cos(h)+\\sin(h)\\cos(x)-\\sin(x)}{h} \\\\\n",
    "    = \\cos(x)\\lim_{h\\to 0}\\frac{\\sin(h)}{h} + \\sin(x)\\lim_{h\\to 0}\\frac{\\cos(h)-1}{h} \\\\\n",
    "    = \\cos(x) + \\sin(x)\\lim_{h\\to 0}\\frac{\\cos(h)-1}{h}\n",
    "$$\n",
    "\n",
    "where the second line comes from factoring the elements with no $h$ from the limit, and the thirds line comes from our recently minted, $\\sin(h)/h\\to 1$. So, it remains to explore this new\n",
    "\n",
    "$$\n",
    "  \\lim_{h\\to 0}\\frac{\\cos(h)-1}{h}\n",
    "$$\n",
    "\n",
    "You will see, graphically and numerically, that it is likely to be 0. To clinch this, let us consider instead\n",
    "\n",
    "$$\n",
    "  \\frac{\\cos(h)-1}{h}\\frac{\\cos(h)+1}{1} = \\frac{\\cos^2(h)-1}{h} = -\\frac{\\sin^2(h)}{h} = -\\frac{\\sin(h)}{h}\\frac{\\sin(h)}{1}.\n",
    "$$\n",
    "\n",
    "And so,\n",
    "\n",
    "$$\n",
    "  \\frac{\\cos(h)-1}{h} = -\\frac{\\sin(h)}{h}\\frac{\\sin(h)}{\\cos(h)+1}\n",
    "$$\n",
    "\n",
    "Although we cannot set $h=0$ on the left, we can on the right, and find $-1$ times 0. Hence,\n",
    "\n",
    "$$\n",
    "  \\boxed{\\lim_{h\\to 0}\\frac{\\cos(h)-1}{h} = 0}\n",
    "$$\n",
    "\n",
    "and\n",
    "\n",
    "$$\n",
    "  \\boxed{\\sin'(x) = \\cos(x)}.\n",
    "$$"
   ]
  },
  {
   "cell_type": "markdown",
   "metadata": {},
   "source": [
    "**Homework 4.** (1) For small enough $h$ graph \n",
    "\n",
    "$$\n",
    "   \\frac{\\cos(x+h)-\\cos(x)}{h} \\hskip 0.25in\\hbox{and}\\hskip 0.25in -\\sin(x)\n",
    "$$\n",
    "\n",
    "together on the same x-axis for $x$ between $\\pm\\pi$, and **discuss** what this suggests about the derivative of $\\cos$. Please establish your suggestion via coco-sisi.\n",
    "\n",
    "(2) For small enough $h$ graph \n",
    "\n",
    "$$\n",
    "   \\frac{\\tan(x+h)-\\tan(x)}{h} \\hskip 0.25in\\hbox{and}\\hskip 0.25in \\frac{1}{\\cos^2(x)}\n",
    "$$\n",
    "\n",
    "together on the same x-axis for $x$ between $\\pm 1.4$, and **discuss** what this suggests about the derivative of $\\tan$.\n",
    "Please establish your suggestion via coco-sisi and sico+sico."
   ]
  },
  {
   "cell_type": "markdown",
   "metadata": {},
   "source": [
    "This is an amazing fit - it does appear that $-\\sin(x)$ is indeed the derivative of $\\cos(x)$. Let's prove it?\n",
    "\n",
    "We begin by invoking our previous lesson that $\\cos(x+h)=\\cos(x)\\cos(h)-\\sin(h)\\sin(x)$ to achieve\n",
    "\n",
    "$$\n",
    " \\cos'(x) = \\lim_{h\\to 0}\\frac{\\cos(x)\\cos(h)-\\sin(h)\\sin(x)-\\cos(x)}{h} \\\\\n",
    "    = \\cos(x)\\lim_{h\\to 0}\\frac{\\sin(h)}{h} + \\sin(x)\\lim_{h\\to 0}\\frac{\\cos(h)-1}{h} \\\\\n",
    "    = \\cos(x) + \\sin(x)\\lim_{h\\to 0}\\frac{\\cos(h)-1}{h}\n",
    "$$"
   ]
  },
  {
   "cell_type": "markdown",
   "metadata": {},
   "source": [
    "Let us now take a derivative of $\\tan$\n",
    "\n",
    "$$\n",
    "  \\tan'(x) = \\lim_{h\\to 0} \\frac{\\tan(x+h)-\\tan(x)}{h} \\\\\n",
    "    = \\lim_{h\\to 0} \\frac{1}{h}\\left(\\frac{\\sin(x+h)}{\\cos(x+h)} - \\frac{\\sin(x)}{\\cos(x)}\\right) \\\\\n",
    "    = \\lim_{h\\to 0} \\frac{1}{h}\\frac{\\sin(x+h)\\cos(x) - \\sin(x)\\cos(x+h)}{\\cos(x+h)\\cos(x)} \n",
    "$$"
   ]
  },
  {
   "cell_type": "code",
   "execution_count": null,
   "metadata": {},
   "outputs": [],
   "source": []
  }
 ],
 "metadata": {
  "kernelspec": {
   "display_name": "Python 3",
   "language": "python",
   "name": "python3"
  },
  "language_info": {
   "codemirror_mode": {
    "name": "ipython",
    "version": 3
   },
   "file_extension": ".py",
   "mimetype": "text/x-python",
   "name": "python",
   "nbconvert_exporter": "python",
   "pygments_lexer": "ipython3",
   "version": "3.8.3"
  },
  "latex_envs": {
   "LaTeX_envs_menu_present": true,
   "autoclose": false,
   "autocomplete": false,
   "bibliofile": "",
   "cite_by": "apalike",
   "current_citInitial": 1,
   "eqLabelWithNumbers": true,
   "eqNumInitial": 1,
   "hotkeys": {
    "equation": "Ctrl-E",
    "itemize": "Ctrl-I"
   },
   "labels_anchors": false,
   "latex_user_defs": false,
   "report_style_numbering": true,
   "user_envs_cfg": true
  },
  "toc": {
   "base_numbering": 1,
   "nav_menu": {},
   "number_sections": true,
   "sideBar": true,
   "skip_h1_title": false,
   "title_cell": "Table of Contents",
   "title_sidebar": "Contents",
   "toc_cell": false,
   "toc_position": {},
   "toc_section_display": true,
   "toc_window_display": false
  }
 },
 "nbformat": 4,
 "nbformat_minor": 4
}
