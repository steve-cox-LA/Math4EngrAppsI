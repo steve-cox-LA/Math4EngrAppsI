{
 "cells": [
  {
   "cell_type": "markdown",
   "metadata": {},
   "source": [
    "# Linear Functions, Acceleration\n",
    "\n",
    "**Objectives:**\n",
    "- Practice solving Linear Equations\n",
    "- Explore linear functions via concepts of space and time\n",
    "- To see acceleration as the slope of the graph of **velocity** versus **time**\n",
    "- To read and use scientific notation for large and small numbers\n",
    "- To convert between several common units of space and time \n",
    "- To use jupyter notebooks as interactive graphical calculators that save your work."
   ]
  },
  {
   "cell_type": "code",
   "execution_count": null,
   "metadata": {
    "code_folding": []
   },
   "outputs": [],
   "source": [
    "# pose   random  y = mx + b    questions, solving for y\n",
    "# Press the Run button and work until you can get 10 right in less than two minutes\n",
    "\n",
    "import numpy as np\n",
    "import time\n",
    "\n",
    "start_time = time.time()\n",
    "replies = 0\n",
    "score = 0\n",
    "while (replies < 9):\n",
    "    m = np.random.randint(20)*(-1)**np.random.randint(2)\n",
    "    b = np.random.randint(20)*(-1)**np.random.randint(2)\n",
    "    print('Consider: y = ' + str(m) + 'x + ' + str(b))\n",
    "    x = np.random.randint(20)\n",
    "    try:\n",
    "       ans = input('    if x=' + str(x) + ' then what is y? ')\n",
    "       ians = int(ans)\n",
    "       if ( abs(ians-(m*x+b)) < 0.5 ):\n",
    "           print('       well done')\n",
    "           score = score + 1\n",
    "       else:\n",
    "           print('       not this time')\n",
    "       print(' ')\n",
    "       replies = replies + 1\n",
    "    except:\n",
    "        print('oops: I need a whole number')\n",
    "        print(' ')\n",
    "    \n",
    "    print('Consider: y = ' + str(m) + 'x - ' + str(b))\n",
    "    x = np.random.randint(20)\n",
    "    try:\n",
    "       ans = input('    if x=' + str(x) + ' then what is y? ')\n",
    "       ians = int(ans)\n",
    "       if ( abs(ians-(m*x-b)) < 0.5 ):\n",
    "           print('       well done')\n",
    "           score = score + 1\n",
    "       else:\n",
    "           print('       not this time')\n",
    "       print(' ')\n",
    "       replies = replies + 1\n",
    "    except:\n",
    "        print('oops: I need a whole number')\n",
    "        print(' ')\n",
    "\n",
    "print('Your Score is ' + str(score) + ' out of 10')\n",
    "print('You finished in ' + str(round(time.time()-start_time)) + ' seconds')"
   ]
  },
  {
   "cell_type": "code",
   "execution_count": null,
   "metadata": {},
   "outputs": [],
   "source": [
    "# pose   random   y = mx + b    questions, solving for x\n",
    "# answer must be given as a fraction (without sign cancellation)\n",
    "# for example, the solution to 3 = -4x + 5  is    -2/-4\n",
    "# Press the Run button and work until you can get 10 right in less than two minutes\n",
    "\n",
    "import numpy as np\n",
    "import time\n",
    "\n",
    "start_time = time.time()\n",
    "replies = 0\n",
    "score = 0\n",
    "while (replies < 9):\n",
    "    m = np.random.randint(1,20)*(-1)**np.random.randint(2)\n",
    "    b = np.random.randint(20)*(-1)**np.random.randint(2)\n",
    "    print('Consider: y = ' + str(m) + 'x + ' + str(b))\n",
    "    y = np.random.randint(20)\n",
    "    try:\n",
    "       ans = input('    if y=' + str(y) + ' then what is x? ')\n",
    "       div = ans.find('/')\n",
    "       num = int(ans[:div])\n",
    "       den = int(ans[div+1:])\n",
    "       print(' ')\n",
    "       if ( abs(num - (y-b)) < 0.5 and abs(den - m) < 0.5):\n",
    "           print('    well done')\n",
    "           score = score + 1\n",
    "       else:\n",
    "           print('    not this time')\n",
    "       print(' ')\n",
    "       replies = replies + 1\n",
    "    except:\n",
    "        print('oops: I need a fraction')\n",
    "        print(' ')\n",
    "        \n",
    "    print('Consider: y = ' + str(m) + 'x - ' + str(b))\n",
    "    y = np.random.randint(20)\n",
    "    try:\n",
    "       ans = input('    if y=' + str(y) + ' then what is x? ')\n",
    "       div = ans.find('/')\n",
    "       num = int(ans[:div])\n",
    "       den = int(ans[div+1:])\n",
    "       print(' ')\n",
    "       if ( abs(num - (y+b)) < 0.5 and abs(den - m) < 0.5):\n",
    "           print('    well done')\n",
    "           score = score + 1\n",
    "       else:\n",
    "           print('    not this time')\n",
    "       print(' ')\n",
    "       replies = replies + 1\n",
    "    except:\n",
    "        print('oops: I need a fraction')\n",
    "        print(' ')\n",
    "        \n",
    "print('Your Score is ' + str(score) + ' out of 10')\n",
    "print('You finished in ' + str(round(time.time()-start_time)) + ' seconds')"
   ]
  },
  {
   "cell_type": "markdown",
   "metadata": {},
   "source": [
    "Imagine a straight road where **d** measures distance, in miles, from the left end, **v** measures velocity in miles per hour (mph) and **a** measure acceleration in mph per hour (mph$^2$)\n",
    "\n",
    "As the light turns green I accelerate (for 30 seconds) from a velocity of 0, to a cruising velocity, 35 mph, that I hold for 1 minute, after which I decelerate (for 45 seconds) as I reach the next red light.\n",
    "\n",
    "We visualize this with the help of this python script"
   ]
  },
  {
   "cell_type": "code",
   "execution_count": 1,
   "metadata": {},
   "outputs": [
    {
     "data": {
      "image/png": "[encoded data removed]",
      "text/plain": [
       "<Figure size 432x288 with 1 Axes>"
      ]
     },
     "metadata": {
      "needs_background": "light"
     },
     "output_type": "display_data"
    }
   ],
   "source": [
    "# graph and label a plot of velocity versus time\n",
    "\n",
    "import numpy as np                  # numerical helper functions\n",
    "import matplotlib.pyplot as plt     # graphical helper functions\n",
    "\n",
    "t = np.linspace(0,30,31)  # first epoch in seconds\n",
    "v =  (35/30)*t               # velocity in mph\n",
    "plt.plot(t, v, 'o-')\n",
    "plt.text(16,10,'accelerate',rotation=68,fontsize=12)\n",
    "\n",
    "t = np.linspace(30,90,61)  # second epoch in seconds\n",
    "v =  35*np.ones(t.size)               # velocity in mph\n",
    "plt.plot(t, v, 's-')\n",
    "plt.text(56,32,'cruise',fontsize=12)\n",
    "\n",
    "t = np.linspace(90,135,46)  # third epoch in seconds\n",
    "v =  -(35/45)*(t-90) + 35              # velocity in mph\n",
    "plt.plot(t, v, 'x-')\n",
    "plt.text(98,10,'decelerate',rotation=-65,fontsize=12)\n",
    "\n",
    "plt.grid('on')\n",
    "plt.legend(['epoch 1','epoch 2','epoch 3'])\n",
    "plt.xlabel('t (seconds)', fontsize=14)\n",
    "plt.ylabel('v  (miles/hour)', fontsize=14)\n",
    "plt.title('Velocity vs. Time', fontsize=16);"
   ]
  },
  {
   "cell_type": "markdown",
   "metadata": {},
   "source": [
    "Now as Acceleration is the slope of Velocity, i.e.,\n",
    "\n",
    "**Acceleration = (end velocity - start velocity) / (end time - start time)**\n",
    " \n",
    "we may compute the acceleration in each epoch.\n",
    "\n",
    "In the first\n",
    "\n",
    "$$\n",
    "  a_1 = \\frac{35-0}{30-0} = (7/6) \\frac{miles}{hours}\\frac{1}{seconds}\n",
    "$$\n",
    "\n",
    "In the second\n",
    "\n",
    "$$\n",
    "  a_2 = 0\n",
    "$$\n",
    "\n",
    "and in the third\n",
    "\n",
    "$$\n",
    "  a_3 = (0-35)/(45-0) = -(7/9) \\frac{miles}{hours}\\frac{1}{seconds}\n",
    "$$\n",
    "\n",
    "These units are using mixed dimensions of time. We could fix this using 1 hour = 3600 seconds. This tells us that we accelerated at\n",
    "\n",
    "$$\n",
    "  a_1 = 4200\\ miles/hour^2\n",
    "$$\n",
    "\n",
    "in the first epoch, and decelerated at\n",
    "\n",
    "$$\n",
    "   a_3 = -2800\\ miles/hour^2\n",
    "$$\n",
    "\n",
    "in the third. As our car dashboards do not report acceleration you may not have an intuitive feel for these magnitudes.\n",
    "\n",
    "We typically use the acceleration due to earth's gravity as our point of comparison. That number is\n",
    "\n",
    "$$\n",
    "  \\boxed{g = 9.81\\ meters/second^2}\n",
    "$$\n",
    "\n",
    "Those units are used thoughout science and engineering, so lets use them for \n",
    "\n",
    "$$\n",
    "  a_1 = (7/6) \\frac{miles}{hours}\\frac{1}{seconds}\\frac{1 \\ hour}{3600\\ seconds}\\frac{1609.34\\ meters}{1\\ mile}\n",
    "    \\approx 0.52\\ meters/second^2\n",
    "$$\n",
    "\n",
    "and hence you \"pulled about one twentieth of a g\" as you left the stop light. This is a modest number compared to the g you feel in jumping from the high dive or the 5g's you feel on a roller coaster or the <a href=\"https://www.youtube.com/watch?v=DMKcO-T5Y4o\">crazy 40 gs on a rocket sled.</a>"
   ]
  },
  {
   "cell_type": "markdown",
   "metadata": {},
   "source": [
    "## Homework: Computing and Illustrating Acceleration\n",
    "\n",
    "1. Complete the top two practice cells, solving y=mx+b for y and x.\n",
    "\n",
    "2. Change the python cell that follows the two practice cells to reflect the case: As the light turns green I accelerate (for 40 seconds) from a velocity of 0, to a cruising velocity, 60 mph, that I hold for 2 minutes, after which I decelerate (for 60 seconds) as I reach the next red light.\n",
    "\n",
    "Complete python cells that **show your work** in answering the following questions. "
   ]
  },
  {
   "cell_type": "markdown",
   "metadata": {},
   "source": [
    "3. What is the acceleration, in $meters/second^2$, during the first epoch in problem 2."
   ]
  },
  {
   "cell_type": "code",
   "execution_count": null,
   "metadata": {},
   "outputs": [],
   "source": []
  },
  {
   "cell_type": "markdown",
   "metadata": {},
   "source": [
    "4. What is the acceleration, in $meters/second^2$, during the second epoch in problem 2."
   ]
  },
  {
   "cell_type": "code",
   "execution_count": null,
   "metadata": {},
   "outputs": [],
   "source": []
  },
  {
   "cell_type": "markdown",
   "metadata": {},
   "source": [
    "5. What is the acceleration, in $meters/second^2$, during the third epoch in problem 2."
   ]
  },
  {
   "cell_type": "code",
   "execution_count": null,
   "metadata": {},
   "outputs": [],
   "source": []
  },
  {
   "cell_type": "markdown",
   "metadata": {},
   "source": [
    "6. A dragster goes from 0 to 100 mph in 0.8 seconds. How many gs?"
   ]
  },
  {
   "cell_type": "code",
   "execution_count": null,
   "metadata": {},
   "outputs": [],
   "source": []
  }
 ],
 "metadata": {
  "kernelspec": {
   "display_name": "Python 3",
   "language": "python",
   "name": "python3"
  },
  "language_info": {
   "codemirror_mode": {
    "name": "ipython",
    "version": 3
   },
   "file_extension": ".py",
   "mimetype": "text/x-python",
   "name": "python",
   "nbconvert_exporter": "python",
   "pygments_lexer": "ipython3",
   "version": "3.8.3"
  },
  "latex_envs": {
   "LaTeX_envs_menu_present": true,
   "autoclose": false,
   "autocomplete": false,
   "bibliofile": "",
   "cite_by": "apalike",
   "current_citInitial": 1,
   "eqLabelWithNumbers": true,
   "eqNumInitial": 1,
   "hotkeys": {
    "equation": "Ctrl-E",
    "itemize": "Ctrl-I"
   },
   "labels_anchors": false,
   "latex_user_defs": false,
   "report_style_numbering": true,
   "user_envs_cfg": true
  },
  "toc": {
   "base_numbering": 1,
   "nav_menu": {},
   "number_sections": true,
   "sideBar": true,
   "skip_h1_title": false,
   "title_cell": "Table of Contents",
   "title_sidebar": "Contents",
   "toc_cell": false,
   "toc_position": {},
   "toc_section_display": true,
   "toc_window_display": false
  }
 },
 "nbformat": 4,
 "nbformat_minor": 4
}
